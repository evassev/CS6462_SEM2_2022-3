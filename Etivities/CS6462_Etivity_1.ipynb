{
 "cells": [
  {
   "cell_type": "markdown",
   "id": "b8e5ed62",
   "metadata": {},
   "source": [
    "<div>\n",
    "<img src=\"https://drive.google.com/uc?export=view&id=1vK33e_EqaHgBHcbRV_m38hx6IkG0blK_\" width=\"350\"/>\n",
    "</div> \n",
    "\n",
    "\n",
    "## CS6402  Probabilistic and Explainable AI\n",
    "## SEM2 2022/3\n",
    "\n",
    "### CS6402 Etivity 1 - Probability \n",
    "\n",
    "### Instructor: Emil Vassev\n",
    "Feb 7th, 2023\n",
    "<br><br>\n",
    "Copyright (C) 2023 - All rights reserved, do not copy or distribute without permission of the author.\n",
    "***"
   ]
  },
  {
   "cell_type": "markdown",
   "id": "6c2603d7",
   "metadata": {},
   "source": [
    "## Submission Info\n",
    "### Student Name: <span style=\"color:red\">TODO: add your name here</span>\n",
    "### Student Surname: <span style=\"color:red\">TODO: add your surname here</span>\n",
    "### Student ID: <span style=\"color:red\">TODO: add your student ID here</span>\n",
    "### Date of Final Submission: <span style=\"color:red\">TODO: put the date when you submitted for grading</span>\n",
    "***"
   ]
  },
  {
   "cell_type": "markdown",
   "id": "a2b8d751",
   "metadata": {},
   "source": [
    "## Introduction\n",
    "Suppose you have a bag full of diamonds of different cut, color, clarity. You draw diamonds without replacement.\n",
    "\n",
    "## Task\n",
    "In this etivity, you are asked to implement a Python code that will determine the probability of getting diamonds of a specific cut, color and clarity. \n",
    "\n",
    "## The Dataset\n",
    "The diamonds data can be loaded from the online repository hosted by the seaborn Python library. "
   ]
  },
  {
   "cell_type": "markdown",
   "id": "994d484c",
   "metadata": {},
   "source": [
    "The provided dataset can be loaded as following:"
   ]
  },
  {
   "cell_type": "code",
   "execution_count": 1,
   "id": "3f30c0a2",
   "metadata": {
    "scrolled": true
   },
   "outputs": [
    {
     "data": {
      "text/html": [
       "<div>\n",
       "<style scoped>\n",
       "    .dataframe tbody tr th:only-of-type {\n",
       "        vertical-align: middle;\n",
       "    }\n",
       "\n",
       "    .dataframe tbody tr th {\n",
       "        vertical-align: top;\n",
       "    }\n",
       "\n",
       "    .dataframe thead th {\n",
       "        text-align: right;\n",
       "    }\n",
       "</style>\n",
       "<table border=\"1\" class=\"dataframe\">\n",
       "  <thead>\n",
       "    <tr style=\"text-align: right;\">\n",
       "      <th></th>\n",
       "      <th>carat</th>\n",
       "      <th>cut</th>\n",
       "      <th>color</th>\n",
       "      <th>clarity</th>\n",
       "      <th>depth</th>\n",
       "      <th>table</th>\n",
       "      <th>price</th>\n",
       "      <th>x</th>\n",
       "      <th>y</th>\n",
       "      <th>z</th>\n",
       "    </tr>\n",
       "  </thead>\n",
       "  <tbody>\n",
       "    <tr>\n",
       "      <th>0</th>\n",
       "      <td>0.23</td>\n",
       "      <td>Ideal</td>\n",
       "      <td>E</td>\n",
       "      <td>SI2</td>\n",
       "      <td>61.5</td>\n",
       "      <td>55.0</td>\n",
       "      <td>326</td>\n",
       "      <td>3.95</td>\n",
       "      <td>3.98</td>\n",
       "      <td>2.43</td>\n",
       "    </tr>\n",
       "    <tr>\n",
       "      <th>1</th>\n",
       "      <td>0.21</td>\n",
       "      <td>Premium</td>\n",
       "      <td>E</td>\n",
       "      <td>SI1</td>\n",
       "      <td>59.8</td>\n",
       "      <td>61.0</td>\n",
       "      <td>326</td>\n",
       "      <td>3.89</td>\n",
       "      <td>3.84</td>\n",
       "      <td>2.31</td>\n",
       "    </tr>\n",
       "    <tr>\n",
       "      <th>2</th>\n",
       "      <td>0.23</td>\n",
       "      <td>Good</td>\n",
       "      <td>E</td>\n",
       "      <td>VS1</td>\n",
       "      <td>56.9</td>\n",
       "      <td>65.0</td>\n",
       "      <td>327</td>\n",
       "      <td>4.05</td>\n",
       "      <td>4.07</td>\n",
       "      <td>2.31</td>\n",
       "    </tr>\n",
       "    <tr>\n",
       "      <th>3</th>\n",
       "      <td>0.29</td>\n",
       "      <td>Premium</td>\n",
       "      <td>I</td>\n",
       "      <td>VS2</td>\n",
       "      <td>62.4</td>\n",
       "      <td>58.0</td>\n",
       "      <td>334</td>\n",
       "      <td>4.20</td>\n",
       "      <td>4.23</td>\n",
       "      <td>2.63</td>\n",
       "    </tr>\n",
       "    <tr>\n",
       "      <th>4</th>\n",
       "      <td>0.31</td>\n",
       "      <td>Good</td>\n",
       "      <td>J</td>\n",
       "      <td>SI2</td>\n",
       "      <td>63.3</td>\n",
       "      <td>58.0</td>\n",
       "      <td>335</td>\n",
       "      <td>4.34</td>\n",
       "      <td>4.35</td>\n",
       "      <td>2.75</td>\n",
       "    </tr>\n",
       "    <tr>\n",
       "      <th>5</th>\n",
       "      <td>0.24</td>\n",
       "      <td>Very Good</td>\n",
       "      <td>J</td>\n",
       "      <td>VVS2</td>\n",
       "      <td>62.8</td>\n",
       "      <td>57.0</td>\n",
       "      <td>336</td>\n",
       "      <td>3.94</td>\n",
       "      <td>3.96</td>\n",
       "      <td>2.48</td>\n",
       "    </tr>\n",
       "    <tr>\n",
       "      <th>6</th>\n",
       "      <td>0.24</td>\n",
       "      <td>Very Good</td>\n",
       "      <td>I</td>\n",
       "      <td>VVS1</td>\n",
       "      <td>62.3</td>\n",
       "      <td>57.0</td>\n",
       "      <td>336</td>\n",
       "      <td>3.95</td>\n",
       "      <td>3.98</td>\n",
       "      <td>2.47</td>\n",
       "    </tr>\n",
       "    <tr>\n",
       "      <th>7</th>\n",
       "      <td>0.26</td>\n",
       "      <td>Very Good</td>\n",
       "      <td>H</td>\n",
       "      <td>SI1</td>\n",
       "      <td>61.9</td>\n",
       "      <td>55.0</td>\n",
       "      <td>337</td>\n",
       "      <td>4.07</td>\n",
       "      <td>4.11</td>\n",
       "      <td>2.53</td>\n",
       "    </tr>\n",
       "    <tr>\n",
       "      <th>8</th>\n",
       "      <td>0.22</td>\n",
       "      <td>Fair</td>\n",
       "      <td>E</td>\n",
       "      <td>VS2</td>\n",
       "      <td>65.1</td>\n",
       "      <td>61.0</td>\n",
       "      <td>337</td>\n",
       "      <td>3.87</td>\n",
       "      <td>3.78</td>\n",
       "      <td>2.49</td>\n",
       "    </tr>\n",
       "    <tr>\n",
       "      <th>9</th>\n",
       "      <td>0.23</td>\n",
       "      <td>Very Good</td>\n",
       "      <td>H</td>\n",
       "      <td>VS1</td>\n",
       "      <td>59.4</td>\n",
       "      <td>61.0</td>\n",
       "      <td>338</td>\n",
       "      <td>4.00</td>\n",
       "      <td>4.05</td>\n",
       "      <td>2.39</td>\n",
       "    </tr>\n",
       "  </tbody>\n",
       "</table>\n",
       "</div>"
      ],
      "text/plain": [
       "   carat        cut color clarity  depth  table  price     x     y     z\n",
       "0   0.23      Ideal     E     SI2   61.5   55.0    326  3.95  3.98  2.43\n",
       "1   0.21    Premium     E     SI1   59.8   61.0    326  3.89  3.84  2.31\n",
       "2   0.23       Good     E     VS1   56.9   65.0    327  4.05  4.07  2.31\n",
       "3   0.29    Premium     I     VS2   62.4   58.0    334  4.20  4.23  2.63\n",
       "4   0.31       Good     J     SI2   63.3   58.0    335  4.34  4.35  2.75\n",
       "5   0.24  Very Good     J    VVS2   62.8   57.0    336  3.94  3.96  2.48\n",
       "6   0.24  Very Good     I    VVS1   62.3   57.0    336  3.95  3.98  2.47\n",
       "7   0.26  Very Good     H     SI1   61.9   55.0    337  4.07  4.11  2.53\n",
       "8   0.22       Fair     E     VS2   65.1   61.0    337  3.87  3.78  2.49\n",
       "9   0.23  Very Good     H     VS1   59.4   61.0    338  4.00  4.05  2.39"
      ]
     },
     "execution_count": 1,
     "metadata": {},
     "output_type": "execute_result"
    }
   ],
   "source": [
    "import seaborn as sns\n",
    "\n",
    "df = sns.load_dataset('diamonds')\n",
    "\n",
    "df.head(10)"
   ]
  },
  {
   "cell_type": "markdown",
   "id": "4f8572aa",
   "metadata": {},
   "source": [
    "## Computing Probability\n",
    "\n",
    "Use the ```fractions``` library, which provides support for rational number arithmetic. Use the ```compute_probability``` function to calculate probability. \n",
    "\n",
    "For more information on ```fractions```, please consult the reference page here: https://docs.python.org/3/library/fractions.html#fractions.Fraction"
   ]
  },
  {
   "cell_type": "code",
   "execution_count": 2,
   "id": "00ad1603",
   "metadata": {},
   "outputs": [],
   "source": [
    "from fractions import Fraction\n",
    "\n",
    "cases = len # the number of cases is the length, or size, of a set\n",
    "favorable = set.intersection # outcomes that are in the event and in the sample space\n",
    "\n",
    "def compute_probability(event, space): ### The probability of an event, given a sample space.\n",
    "\n",
    "    result = Fraction(cases(favorable(event, space)), cases(space))\n",
    "    probability = result.numerator / result.denominator\n",
    "    \n",
    "    return probability"
   ]
  },
  {
   "cell_type": "markdown",
   "id": "a2788722",
   "metadata": {},
   "source": [
    "# Step 1: Determine the Sample Space Parameters.  (10%)"
   ]
  },
  {
   "cell_type": "markdown",
   "id": "b7ad3798",
   "metadata": {},
   "source": [
    "<span style=\"color:red\">TODO</span>\n",
    "\n",
    "Define the Diamonds Sample Space as:\n",
    "* total number of diamonds\n",
    "* total number of diamonds in category of cut\n",
    "* total number of diamonds in category of color\n",
    "* total number of diamonds in category of clarity"
   ]
  },
  {
   "cell_type": "code",
   "execution_count": 3,
   "id": "54e75194",
   "metadata": {},
   "outputs": [],
   "source": [
    "#put your code here"
   ]
  },
  {
   "cell_type": "markdown",
   "id": "cca74de4",
   "metadata": {},
   "source": [
    "# Step 2: Implement the Sample Space.  (30%)\n",
    "\n",
    "<span style=\"color:red\">TODO</span>\n",
    "\n",
    "Implement a loop that will read the dataframe ```df``` and complete the ```diamonds``` sample space. The sample space must contain strings describing each diamond in the bag in terms of cut, color, and clarity."
   ]
  },
  {
   "cell_type": "code",
   "execution_count": 4,
   "id": "06ff9d0c",
   "metadata": {},
   "outputs": [],
   "source": [
    "diamonds = {}\n",
    "\n",
    "#put ypour code here\n"
   ]
  },
  {
   "cell_type": "markdown",
   "id": "166837cf",
   "metadata": {},
   "source": [
    "# Step 3: Implement Events and Compute Probabilites.  (60%)"
   ]
  },
  {
   "cell_type": "markdown",
   "id": "86ef8954",
   "metadata": {},
   "source": [
    "## Step 3.1: Compute the Probability of Drawing Five Diamonds with \"Ideal\" Cut Consecutively?   (15%)\n",
    "\n",
    "<span style=\"color:red\">TODO</span>\n",
    "\n",
    "* implement the event \"diamonds with ideal cut\"\n",
    "* compute the probability of drawing five diamonds with \"ideal\" cut consecutively and without replacement "
   ]
  },
  {
   "cell_type": "code",
   "execution_count": 5,
   "id": "9c0e9131",
   "metadata": {},
   "outputs": [],
   "source": [
    "ev_diamonds_with_ideal_cut = {}\n",
    "\n",
    "#put ypour code here"
   ]
  },
  {
   "cell_type": "markdown",
   "id": "e3e37974",
   "metadata": {},
   "source": [
    "## Step 3.2: Compute the Probability of Drawing Five Diamonds with \"SI2\" Clarity Consecutively?   (15%)\n",
    "\n",
    "<span style=\"color:red\">TODO</span>\n",
    "\n",
    "* implement the event \"diamonds with SI2 clarity\"\n",
    "* compute the probability of drawing five diamonds with \"SI2\" clarity consecutively and without replacement"
   ]
  },
  {
   "cell_type": "code",
   "execution_count": 6,
   "id": "b868fe7f",
   "metadata": {},
   "outputs": [],
   "source": [
    "ev_diamonds_with_si2_clarity = {}\n",
    "\n",
    "#put ypour code here"
   ]
  },
  {
   "cell_type": "markdown",
   "id": "091a85d3",
   "metadata": {},
   "source": [
    "## Step 3.3: Compute the Probability of Drawing Five Diamonds with \"E\" Color Consecutively?   (15%)\n",
    "\n",
    "<span style=\"color:red\">TODO</span>\n",
    "\n",
    "* implement the event \"diamonds with E color\"\n",
    "* compute the probability of drawing five diamonds with \"E\" color consecutively and without replacement"
   ]
  },
  {
   "cell_type": "code",
   "execution_count": 7,
   "id": "14a76e9c",
   "metadata": {},
   "outputs": [],
   "source": [
    "ev_diamonds_with_e_color = {}\n",
    "\n",
    "#put ypour code here"
   ]
  },
  {
   "cell_type": "markdown",
   "id": "88e4a35e",
   "metadata": {},
   "source": [
    "## Step 3.4: Compute the Probability of Drawing Five Diamonds with \"Ideal\" cut, \"SI2\" Clarity, and \"E\" Color Consecutively?   (15%)\n",
    "\n",
    "<span style=\"color:red\">TODO</span>\n",
    "\n",
    "* implement the event \"diamonds with Ideal cut, SI2 clarity, and E color\"\n",
    "* compute the probability of drawing five diamonds with \"Ideal\" cut, \"SI2\" clarity, and \"E\" color consecutively and without replacement"
   ]
  },
  {
   "cell_type": "code",
   "execution_count": 8,
   "id": "5dd3b951",
   "metadata": {},
   "outputs": [],
   "source": [
    "ev_diamonds_with_ideal_cut_si2_clarity_e_color = {}\n",
    "\n",
    "#put ypour code here"
   ]
  },
  {
   "cell_type": "code",
   "execution_count": null,
   "id": "c8e7501c",
   "metadata": {},
   "outputs": [],
   "source": []
  }
 ],
 "metadata": {
  "kernelspec": {
   "display_name": "Python 3 (ipykernel)",
   "language": "python",
   "name": "python3"
  },
  "language_info": {
   "codemirror_mode": {
    "name": "ipython",
    "version": 3
   },
   "file_extension": ".py",
   "mimetype": "text/x-python",
   "name": "python",
   "nbconvert_exporter": "python",
   "pygments_lexer": "ipython3",
   "version": "3.9.7"
  }
 },
 "nbformat": 4,
 "nbformat_minor": 5
}
