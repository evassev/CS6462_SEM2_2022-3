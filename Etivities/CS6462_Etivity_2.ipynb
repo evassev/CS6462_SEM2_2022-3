{
 "cells": [
  {
   "cell_type": "markdown",
   "id": "b8e5ed62",
   "metadata": {},
   "source": [
    "<div>\n",
    "<img src=\"https://drive.google.com/uc?export=view&id=1vK33e_EqaHgBHcbRV_m38hx6IkG0blK_\" width=\"350\"/>\n",
    "</div> \n",
    "\n",
    "# **Artificial Intelligence - MSc**\n",
    "\n",
    "## CS6462 - PROBABILISTIC AND EXPLAINABLE AI \n",
    "## SEM2 2022/3\n",
    "\n",
    "### CS6462 Etivity 2 - Building a Bayesian Network on a Real-Life Scenario\n",
    "\n",
    "### Instructor: Emil Vassev\n",
    "March 7th, 2023\n",
    "<br><br>\n",
    "Copyright (C) 2023 - All rights reserved, do not copy or distribute without permission of the author.\n",
    "***"
   ]
  },
  {
   "cell_type": "markdown",
   "id": "6c2603d7",
   "metadata": {},
   "source": [
    "## Submission Info\n",
    "### Student Name: <span style=\"color:red\">TODO: add your name here</span>\n",
    "### Student Surname: <span style=\"color:red\">TODO: add your surname here</span>\n",
    "### Student ID: <span style=\"color:red\">TODO: add your student ID here</span>\n",
    "### Date of Final Submission: <span style=\"color:red\">TODO: put the date when you submitted for grading</span>\n",
    "***"
   ]
  },
  {
   "cell_type": "markdown",
   "id": "a2b8d751",
   "metadata": {},
   "source": [
    "## Task\n",
    "In this e-tivity, you are asked to build a Bayesian Network by following the steps outlined in “Notebook Lesson: Building Bayesian Networks with Python”. This Bayesian Network needs to cover a real-life scenario, which is a modified version of the “Recommendation Letter” example provided by the lectures. \n",
    "## The real-life scenario\n",
    "Let’s suppose that a UL student is taking the CS6264 module “Probabilistic and Explainable AI”. The student’s grade for this module will depend on their intelligence (low or high), module difficulty (easy, hard), and their health status (sick or healthy). Our student asks their professor for a recommendation letter. To come up with the idea of the quality of that recommendation letter (weak or strong), the professor can only look at the student’s grade (A, B or C) and the student’s forum activity (not active, active). Hence, the actual quality of the letter depends stochastically on the grade and on the forum activity. \n",
    "\n",
    "### Here are the steps you need to follow:"
   ]
  },
  {
   "cell_type": "markdown",
   "id": "a2788722",
   "metadata": {},
   "source": [
    "## Step 1: Create the DAG of the Bayesian Network (20%)"
   ]
  },
  {
   "cell_type": "markdown",
   "id": "6b20db4c",
   "metadata": {},
   "source": [
    "### Step 1.1. Describe the problem (5%)\n",
    "Outline the problem in terms of:\n",
    "<ul>\n",
    "<li>random variables and their domain</li>\n",
    "<li>dependencies among these random variables</li>\n",
    "<ul>"
   ]
  },
  {
   "cell_type": "markdown",
   "id": "dc9249ff",
   "metadata": {},
   "source": [
    "<span style=\"color:red\">TODO: your description goes here</span>"
   ]
  },
  {
   "cell_type": "markdown",
   "id": "ee5b9a4b",
   "metadata": {},
   "source": [
    "### Step 1.2. Draw and show the DAG (7%)"
   ]
  },
  {
   "cell_type": "code",
   "execution_count": 1,
   "id": "7ed86963",
   "metadata": {},
   "outputs": [],
   "source": [
    "# your code goes here"
   ]
  },
  {
   "cell_type": "markdown",
   "id": "c0ecd215",
   "metadata": {},
   "source": [
    "### Step 1.3. Create the DAG of the Bayesian Network by using the pgmpy library (7%)"
   ]
  },
  {
   "cell_type": "code",
   "execution_count": 2,
   "id": "db48a940",
   "metadata": {},
   "outputs": [],
   "source": [
    "# your code goes here"
   ]
  },
  {
   "cell_type": "markdown",
   "id": "c4a839dc",
   "metadata": {},
   "source": [
    "### Step 1.4. Show the DAG of the Bayesian Network (1%)"
   ]
  },
  {
   "cell_type": "code",
   "execution_count": 3,
   "id": "cd305a3b",
   "metadata": {},
   "outputs": [],
   "source": [
    "# your code goes here"
   ]
  },
  {
   "cell_type": "markdown",
   "id": "e9de73a9",
   "metadata": {},
   "source": [
    "## Step 2: Create the Conditional Probability Distributions of the Bayesian Network (50%)"
   ]
  },
  {
   "cell_type": "markdown",
   "id": "bd3ae2ef",
   "metadata": {},
   "source": [
    "### Step 2.1: Build the probability distribution tables with TabularCPD (46%)"
   ]
  },
  {
   "cell_type": "code",
   "execution_count": 4,
   "id": "c350d2fb",
   "metadata": {},
   "outputs": [],
   "source": [
    "# your code goes here"
   ]
  },
  {
   "cell_type": "markdown",
   "id": "9fc20d41",
   "metadata": {},
   "source": [
    "### Step 2.2: Associate the distribution models with the network structure (2%)"
   ]
  },
  {
   "cell_type": "code",
   "execution_count": 5,
   "id": "b4241adf",
   "metadata": {},
   "outputs": [],
   "source": [
    "# your code goes here"
   ]
  },
  {
   "cell_type": "markdown",
   "id": "b6b85948",
   "metadata": {},
   "source": [
    "### Step 2.3: Check the model (2%)"
   ]
  },
  {
   "cell_type": "code",
   "execution_count": 6,
   "id": "9c60a865",
   "metadata": {},
   "outputs": [],
   "source": [
    "# your code goes here"
   ]
  },
  {
   "cell_type": "markdown",
   "id": "ce96e2a3",
   "metadata": {},
   "source": [
    "## Step 3: Inference with the Bayesian Network (30%)"
   ]
  },
  {
   "cell_type": "markdown",
   "id": "5a52a7fa",
   "metadata": {},
   "source": [
    "### Step 3.1: Infer Posterior Probability of having a grade A if the evidence is a strong recommendation letter (10%)"
   ]
  },
  {
   "cell_type": "code",
   "execution_count": 7,
   "id": "06b6fdc3",
   "metadata": {},
   "outputs": [],
   "source": [
    "# your code goes here"
   ]
  },
  {
   "cell_type": "code",
   "execution_count": 8,
   "id": "308a9df3",
   "metadata": {},
   "outputs": [],
   "source": [
    "# show the posterior probability results\n",
    "# your code goes here"
   ]
  },
  {
   "cell_type": "markdown",
   "id": "9b258b7f",
   "metadata": {},
   "source": [
    "### Step 3.2: Infer Prior Probability of having a strong recommendation letter with no evidence (10%)"
   ]
  },
  {
   "cell_type": "code",
   "execution_count": 9,
   "id": "a1acf2f0",
   "metadata": {},
   "outputs": [],
   "source": [
    "# your code goes here"
   ]
  },
  {
   "cell_type": "code",
   "execution_count": 10,
   "id": "98b85fc8",
   "metadata": {},
   "outputs": [],
   "source": [
    "# show the prior probability results\n",
    "# your code goes here"
   ]
  },
  {
   "cell_type": "markdown",
   "id": "f8e8fba0",
   "metadata": {},
   "source": [
    "### Step 3.3: Infer Prior Probability of having a strong recommendation letter with a weak forum activity as a prior evidence (10%)"
   ]
  },
  {
   "cell_type": "code",
   "execution_count": 11,
   "id": "806bbe99",
   "metadata": {},
   "outputs": [],
   "source": [
    "# your code goes here"
   ]
  },
  {
   "cell_type": "code",
   "execution_count": 12,
   "id": "c403a277",
   "metadata": {},
   "outputs": [],
   "source": [
    "# show the prior probability results\n",
    "# your code goes here"
   ]
  },
  {
   "cell_type": "code",
   "execution_count": null,
   "id": "f0eae6a8",
   "metadata": {},
   "outputs": [],
   "source": []
  }
 ],
 "metadata": {
  "kernelspec": {
   "display_name": "Python 3 (ipykernel)",
   "language": "python",
   "name": "python3"
  },
  "language_info": {
   "codemirror_mode": {
    "name": "ipython",
    "version": 3
   },
   "file_extension": ".py",
   "mimetype": "text/x-python",
   "name": "python",
   "nbconvert_exporter": "python",
   "pygments_lexer": "ipython3",
   "version": "3.9.7"
  }
 },
 "nbformat": 4,
 "nbformat_minor": 5
}
