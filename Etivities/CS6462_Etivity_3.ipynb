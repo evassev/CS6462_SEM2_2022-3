{
 "cells": [
  {
   "cell_type": "markdown",
   "id": "b8e5ed62",
   "metadata": {},
   "source": [
    "<div>\n",
    "<img src=\"https://drive.google.com/uc?export=view&id=1vK33e_EqaHgBHcbRV_m38hx6IkG0blK_\" width=\"350\"/>\n",
    "</div> \n",
    "\n",
    "# **Artificial Intelligence - MSc**\n",
    "\n",
    "## CS6462 - PROBABILISTIC AND EXPLAINABLE AI \n",
    "## SEM2 2022/3\n",
    "\n",
    "### CS6462 Etivity 3 - Causal Graphical Model vs Bayesian Graphical Model\n",
    "\n",
    "### Instructor: Emil Vassev\n",
    "April 10th, 2023\n",
    "<br><br>\n",
    "Copyright (C) 2023 - All rights reserved, do not copy or distribute without permission of the author.\n",
    "***"
   ]
  },
  {
   "cell_type": "markdown",
   "id": "6c2603d7",
   "metadata": {},
   "source": [
    "## Submission Info\n",
    "### Student Name: <span style=\"color:red\">TODO: add your name here</span>\n",
    "### Student Surname: <span style=\"color:red\">TODO: add your surname here</span>\n",
    "### Student ID: <span style=\"color:red\">TODO: add your student ID here</span>\n",
    "### Date of Final Submission: <span style=\"color:red\">TODO: put the date when you submitted for grading</span>\n",
    "***"
   ]
  },
  {
   "cell_type": "markdown",
   "id": "a2b8d751",
   "metadata": {},
   "source": [
    "## Task\n",
    "In this e-tivity, you are asked to build a Causal Graphical Model by using the <b>causalgraphicalmodels</b> library and do interventions on this model. Then you are asked to build the same model but as a Bayesian Network by using the <b>BayesianNetwork</b> construct of the <b>pgmpy.models</b> library. Both models need to cover a real-life scenario targeting getting late at work. \n",
    "\n",
    "## The real-life scenario\n",
    "\n",
    "Here, you can find a set of random variables X = {X1, X2, ... , X12}:\n",
    "<li>X1 = “late for work”</li> \n",
    "<li>X2 = “low speed due to long vehicle queues”</li> \n",
    "<li>X3 = “traffic jam”</li>\n",
    "<li>X4 = “traffic accident”</li> \n",
    "<li>X5 = “heavy rain”</li>\n",
    "<li>X6 = “snow”</li>\n",
    "<li>X7 = “slippery road”</li> \n",
    "<li>X8 = “getting up late”</li>\n",
    "<li>X9 = “road is blocked”</li>\n",
    "<li>X10 = “taking a longer alternative route”</li> \n",
    "<li>X11 = “car malfunction”</li> \n",
    "<li>X12 = “car towing”</li> \n",
    "\n",
    "Use your logic to build a <b>realistic</b> causal network, which then can be transformed to a Bayesian Network (Causal Bayesian Network). In this network, the parent-child relationships should be deduced based on your logic. You need to use all the random variables.\n",
    "    \n",
    "### Here are the steps you need to follow:"
   ]
  },
  {
   "cell_type": "markdown",
   "id": "a2788722",
   "metadata": {},
   "source": [
    "## Step 1: Create and Execute the Causal Network (50%)"
   ]
  },
  {
   "cell_type": "markdown",
   "id": "6b20db4c",
   "metadata": {},
   "source": [
    "### Step 1.1. Describe your logic of deducing the causal relationships. (10%)\n",
    "Outline the problem in terms of:\n",
    "<li>causal dependencies among the random variables</li>\n",
    "<li>short rationale on the parent-child relationships</li>    \n"
   ]
  },
  {
   "cell_type": "markdown",
   "id": "dc9249ff",
   "metadata": {},
   "source": [
    "<span style=\"color:red\">TODO: your description goes here</span>"
   ]
  },
  {
   "cell_type": "markdown",
   "id": "ee5b9a4b",
   "metadata": {},
   "source": [
    "### Step 1.2: Create and show the Causal DAG (30%)"
   ]
  },
  {
   "cell_type": "code",
   "execution_count": 1,
   "id": "7ed86963",
   "metadata": {},
   "outputs": [],
   "source": [
    "# your code goes here"
   ]
  },
  {
   "cell_type": "markdown",
   "id": "c0ecd215",
   "metadata": {},
   "source": [
    "### Step 1.3: Show the Joint Distibution of the Causal Network (1%)"
   ]
  },
  {
   "cell_type": "code",
   "execution_count": 2,
   "id": "db48a940",
   "metadata": {},
   "outputs": [],
   "source": [
    "# your code goes here"
   ]
  },
  {
   "cell_type": "markdown",
   "id": "f33fdb51",
   "metadata": {},
   "source": [
    "### Step 1.4: Run the intervention do(“road is blocked”) (7%)"
   ]
  },
  {
   "cell_type": "code",
   "execution_count": 3,
   "id": "047e9c72",
   "metadata": {},
   "outputs": [],
   "source": [
    "# your code goes here"
   ]
  },
  {
   "cell_type": "markdown",
   "id": "c4a839dc",
   "metadata": {},
   "source": [
    "### Step 1.5: Show the Causal DAG with the intervention \"on\" (1%)"
   ]
  },
  {
   "cell_type": "code",
   "execution_count": 4,
   "id": "cd305a3b",
   "metadata": {},
   "outputs": [],
   "source": [
    "# your code goes here"
   ]
  },
  {
   "cell_type": "markdown",
   "id": "93c3bfd3",
   "metadata": {},
   "source": [
    "### Step 1.6: Show the Joint Distibution of the Causal Network with the intervention \"on\" (1%)"
   ]
  },
  {
   "cell_type": "code",
   "execution_count": 5,
   "id": "54ef9671",
   "metadata": {},
   "outputs": [],
   "source": [
    "# your code goes here"
   ]
  },
  {
   "cell_type": "markdown",
   "id": "15270698",
   "metadata": {},
   "source": [
    "***\n",
    "## Note\n",
    "In <b>Step 2</b> you need to transform the model, you have built in Step 1, to a Bayesian Network. Here, you will need to repeat some of the activities you have already done in E-tivity 2. Please, consider all the random variables <b>X</b> binary and the probability distribution of each variable as <b>{true=50%, false=50%}</b>. \n",
    "***"
   ]
  },
  {
   "cell_type": "markdown",
   "id": "e9de73a9",
   "metadata": {},
   "source": [
    "## Step 2: Create and Execute the Bayesian Network (50%)"
   ]
  },
  {
   "cell_type": "markdown",
   "id": "bd3ae2ef",
   "metadata": {},
   "source": [
    "### Step 2.1: Create and show the DAG of the Bayesian Network (20%)"
   ]
  },
  {
   "cell_type": "code",
   "execution_count": 6,
   "id": "c350d2fb",
   "metadata": {},
   "outputs": [],
   "source": [
    "# use the pgmpy library: \"from pgmpy.models import BayesianNetwork\"\n",
    "# your code goes here"
   ]
  },
  {
   "cell_type": "markdown",
   "id": "9fc20d41",
   "metadata": {},
   "source": [
    "### Step 2.2: Create the Conditional Probability Distributions of the Bayesian Network (20%)"
   ]
  },
  {
   "cell_type": "markdown",
   "id": "c75f3377",
   "metadata": {},
   "source": [
    "#### Step 2.2.1: Build the probability distribution tables with TabularCPD (16%)"
   ]
  },
  {
   "cell_type": "code",
   "execution_count": 7,
   "id": "b4241adf",
   "metadata": {},
   "outputs": [],
   "source": [
    "# your code goes here"
   ]
  },
  {
   "cell_type": "markdown",
   "id": "b6b85948",
   "metadata": {},
   "source": [
    "#### Step 2.2.2: Associate the distribution models with the network structure (2%)"
   ]
  },
  {
   "cell_type": "code",
   "execution_count": 8,
   "id": "9c60a865",
   "metadata": {},
   "outputs": [],
   "source": [
    "# your code goes here"
   ]
  },
  {
   "cell_type": "markdown",
   "id": "5a52a7fa",
   "metadata": {},
   "source": [
    "#### Step 2.2.3: Check the model (2%)"
   ]
  },
  {
   "cell_type": "code",
   "execution_count": 9,
   "id": "06b6fdc3",
   "metadata": {},
   "outputs": [],
   "source": [
    "# your code goes here"
   ]
  },
  {
   "cell_type": "markdown",
   "id": "9b258b7f",
   "metadata": {},
   "source": [
    "### Step 2.3: Infer Posterior Probability of “road is blocked” considering \"late for work\" as evidence. (10%)"
   ]
  },
  {
   "cell_type": "code",
   "execution_count": 10,
   "id": "a1acf2f0",
   "metadata": {},
   "outputs": [],
   "source": [
    "# show the probability results\n",
    "# your code goes here:"
   ]
  },
  {
   "cell_type": "code",
   "execution_count": null,
   "id": "983fabb1",
   "metadata": {},
   "outputs": [],
   "source": []
  }
 ],
 "metadata": {
  "kernelspec": {
   "display_name": "Python 3 (ipykernel)",
   "language": "python",
   "name": "python3"
  },
  "language_info": {
   "codemirror_mode": {
    "name": "ipython",
    "version": 3
   },
   "file_extension": ".py",
   "mimetype": "text/x-python",
   "name": "python",
   "nbconvert_exporter": "python",
   "pygments_lexer": "ipython3",
   "version": "3.9.7"
  }
 },
 "nbformat": 4,
 "nbformat_minor": 5
}
