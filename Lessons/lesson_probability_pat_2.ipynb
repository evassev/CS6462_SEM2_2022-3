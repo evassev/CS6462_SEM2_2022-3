{
 "cells": [
  {
   "cell_type": "markdown",
   "id": "23c6d81e",
   "metadata": {},
   "source": [
    "\n",
    "# Probability - Part II\n",
    "\n",
    "by Emil Vassev\n",
    "\n",
    "February 2, 2023\n",
    "<br><br>\n",
    "Copyright (C) 2023 - All rights reserved, do not copy or distribute without permission of the author.\n",
    "***"
   ]
  },
  {
   "cell_type": "markdown",
   "id": "752d6b4d",
   "metadata": {},
   "source": [
    "<span style=\"color:blue\">Welcome to <b>Introduction to Probability with Python</b>, an interactive lecture designed to give you examples of implementing probability problems in Python.</span>"
   ]
  },
  {
   "cell_type": "markdown",
   "id": "a70f18d2",
   "metadata": {},
   "source": [
    "## Probability Multiplication \n",
    "* a way to find the probability of two or more events happening at the same time\n",
    "\n",
    "### General Multiplication Rule of Probability\n",
    "* the probability of occurrence of both events $E$ and $F$ is equal to the product of the probability of $E$ occurring and the conditional probability that event $F$ occurring given that event $E$ occurs\n",
    "\n",
    "$P(E ∩ F) = P(E) * P(F|E) = P(F) * P(E|F)$  \n",
    "\n",
    "### Specific Multiplication Rule of Probability\n",
    "* iff $E$ and $F$ are independent, then the probability of occurrence of both events $E$ and $F$ is equal to the product of the probability of $E$ occurring and the probability of $F$ occurring\n",
    "\n",
    "$P(E ∩ F) = P(E) * P(F)$  \n",
    "\n",
    "\n",
    "Example:\n",
    "```python\n",
    "X: A bag contains 6 black marbles and 4 white marbles. Two marbles are drawn from the bag, without replacement. What is the probability that both marbles are white?\n",
    "\n",
    "S = {b1, b2, b3, b4, b5, b6, w1, w2, w3, w4} \n",
    "P(S) = 1, P(b1) = … = P(b6) = P(w1) = … = P(w4) = 1/10\n",
    "\n",
    "F = {w}  - an event \"the ball is white“, P(F) = 4/10 (there are 10 marbles in the bag) \n",
    "E = {w}  - an event \"the ball is white“, P(E|F) = 3/9 (there are 9 marbles in the bag)\n",
    "\n",
    "P(F ∩ E) = P(E|F) * P(F) = 3/9 * 4/10 = 2/15 = 0.1333 = 13.33 %\n",
    "```"
   ]
  },
  {
   "cell_type": "markdown",
   "id": "cbfed303",
   "metadata": {},
   "source": [
    "## Computing Probability in Python\n",
    "\n",
    "We use the ```fractions``` library, which provides support for rational number arithmetic. We use the ```Fraction``` class to construct an object to calculate probability. A Fraction instance can be constructed from a pair of integers, from another rational number, or from a string. \n",
    "\n",
    "```python\n",
    "class fractions.Fraction(numerator=0, denominator=1)\n",
    "```\n",
    "\n",
    "For more information, please consult the reference page here: https://docs.python.org/3/library/fractions.html#fractions.Fraction"
   ]
  },
  {
   "cell_type": "code",
   "execution_count": 1,
   "id": "8e6bb4e3",
   "metadata": {},
   "outputs": [],
   "source": [
    "from fractions import Fraction\n",
    "\n",
    "cases = len # the number of cases is the length, or size, of a set\n",
    "favorable = set.intersection # outcomes that are in the event and in the sample space\n",
    "\n",
    "def compute_probability(event, space): ### The probability of an event, given a sample space.\n",
    "\n",
    "    result = Fraction(cases(favorable(event, space)), cases(space))\n",
    "    probability = result.numerator / result.denominator\n",
    "    \n",
    "    return probability\n",
    "\n",
    "def compute_probability_in_percent(event, space): ### The probability of an event, given a sample space.\n",
    "\n",
    "    result = Fraction(cases(favorable(event, space)), cases(space))\n",
    "    probability = result.numerator / result.denominator * 100\n",
    "    \n",
    "    return probability"
   ]
  },
  {
   "cell_type": "code",
   "execution_count": 2,
   "id": "fc3e683c",
   "metadata": {},
   "outputs": [
    {
     "name": "stdout",
     "output_type": "stream",
     "text": [
      "{'b6', 'b3', 'w1', 'w3', 'b2', 'b4', 'w2', 'w4', 'b5', 'b1'}\n",
      "{'b6', 'b3', 'w1', 'w3', 'b2', 'b4', 'w2', 'b5', 'b1'}\n",
      "0.13333333333333333\n"
     ]
    }
   ],
   "source": [
    "# the sample space; a bag contains 6 black marbles and 4 white marbles\n",
    "bag = {'b1', 'b2', 'b3', 'b4', 'b5', 'b6', 'w1', 'w2', 'w3', 'w4'}  \n",
    "\n",
    "f  = {'w1', 'w2', 'w3', 'w4'} # an event \"the ball is white“, \n",
    "e  = {'w1', 'w2', 'w3'} # an event \"the ball is white“, \n",
    "\n",
    "print(bag)\n",
    "\n",
    "probability_f = compute_probability(f, bag)\n",
    "\n",
    "bag.remove('w4')\n",
    "print(bag)\n",
    "\n",
    "probability_e = compute_probability(e, bag)\n",
    "\n",
    "probability = probability_f * probability_e \n",
    "\n",
    "print(probability)"
   ]
  },
  {
   "cell_type": "markdown",
   "id": "b3bc87c3",
   "metadata": {},
   "source": [
    "### General Multiplication Rule of Probability for Three and More Events\n",
    "* the probability of three dependent events $F$, $E$, $D$ occurring together is:\n",
    "\n",
    "$P(F ∩ E ∩ D) = P(F) * P(E|F) * P(D|E|F)$  \n",
    "\n",
    "* the probability of four dependent events $F$, $E$, $D$, and *C* occurring together is:\n",
    "\n",
    "$P(F ∩ E ∩ D ∩ C) = P(F) * P(E|F) * P(D|E|F) * P(C|D|E|F)$  \n",
    "\n",
    "Example:\n",
    "```python\n",
    "X: We have 52 cards. We want to find out the probability of getting three jacks consecutively if we don’t return the drawn card each draw.\n",
    "\n",
    "S = {4*j, 48*c} – 4 jacks + 48 other  cards \n",
    "P(S) = 1, P(j) = P(c) = 1/52\n",
    "\n",
    "E1 = {j}  - an event \"the card is a jack“, P(E1) = 4/52 (there are 52 cards) \n",
    "E2 = {j}  - an event \" the card is a jack“, P(E2|E1) = 3/51 (there are 51 cards and 3 jacks)\n",
    "E3 = {j}  - an event \"the card is a jack “, P(E3|E2|E1) = 2/50 (there are 50 cards and 2 jacks) \n",
    "\n",
    "P(E1∩E2∩E3) = P(E1)*P(E2|E1)*P(E3|E2|E1)  = 4/52 * 3/51 * 2/50 = 1/13 * 1/17 * 1/25 = 1/5525 = 0.00018099547511312217\n",
    "```"
   ]
  },
  {
   "cell_type": "code",
   "execution_count": 3,
   "id": "11d7538c",
   "metadata": {},
   "outputs": [
    {
     "name": "stdout",
     "output_type": "stream",
     "text": [
      "['A♥', 'A♠', 'A♦', 'A♣', 'K♥', 'K♠', 'K♦', 'K♣', 'Q♥', 'Q♠', 'Q♦', 'Q♣', 'J♥', 'J♠', 'J♦', 'J♣', 'T♥', 'T♠', 'T♦', 'T♣', '9♥', '9♠', '9♦', '9♣', '8♥', '8♠', '8♦', '8♣', '7♥', '7♠', '7♦', '7♣', '6♥', '6♠', '6♦', '6♣', '5♥', '5♠', '5♦', '5♣', '4♥', '4♠', '4♦', '4♣', '3♥', '3♠', '3♦', '3♣', '2♥', '2♠', '2♦', '2♣']\n",
      "0.07692307692307693\n",
      "['A♥', 'A♠', 'A♦', 'A♣', 'K♥', 'K♠', 'K♦', 'K♣', 'Q♥', 'Q♠', 'Q♦', 'Q♣', 'J♠', 'J♦', 'J♣', 'T♥', 'T♠', 'T♦', 'T♣', '9♥', '9♠', '9♦', '9♣', '8♥', '8♠', '8♦', '8♣', '7♥', '7♠', '7♦', '7♣', '6♥', '6♠', '6♦', '6♣', '5♥', '5♠', '5♦', '5♣', '4♥', '4♠', '4♦', '4♣', '3♥', '3♠', '3♦', '3♣', '2♥', '2♠', '2♦', '2♣']\n",
      "0.058823529411764705\n",
      "['A♥', 'A♠', 'A♦', 'A♣', 'K♥', 'K♠', 'K♦', 'K♣', 'Q♥', 'Q♠', 'Q♦', 'Q♣', 'J♦', 'J♣', 'T♥', 'T♠', 'T♦', 'T♣', '9♥', '9♠', '9♦', '9♣', '8♥', '8♠', '8♦', '8♣', '7♥', '7♠', '7♦', '7♣', '6♥', '6♠', '6♦', '6♣', '5♥', '5♠', '5♦', '5♣', '4♥', '4♠', '4♦', '4♣', '3♥', '3♠', '3♦', '3♣', '2♥', '2♠', '2♦', '2♣']\n",
      "0.04\n",
      "0.0001809954751131222\n"
     ]
    }
   ],
   "source": [
    "# the sample space; a deck of 52 cards\n",
    "suits = u'♥♠♦♣'\n",
    "ranks = u'AKQJT98765432'\n",
    "deck  = [r + s for r in ranks for s in suits]\n",
    "\n",
    "e1  = {'J♥', 'J♠', 'J♦', 'J♣'} # an event \"the card is a jack“ \n",
    "e2  = {'J♠', 'J♦', 'J♣'} # an event \"the card is a jack“ \n",
    "e3  = {'J♦', 'J♣'} # an event \"the card is a jack“ \n",
    "\n",
    "print(deck) \n",
    "probability_e1 = compute_probability(e1, deck)\n",
    "print(probability_e1)\n",
    "\n",
    "deck.remove('J♥')\n",
    "print(deck) \n",
    "probability_e2 = compute_probability(e2, deck)\n",
    "print(probability_e2)\n",
    "\n",
    "deck.remove('J♠')\n",
    "print(deck) \n",
    "probability_e3 = compute_probability(e3, deck)\n",
    "print(probability_e3)\n",
    "\n",
    "probability = probability_e1 * probability_e2 * probability_e3 \n",
    "\n",
    "print(probability)"
   ]
  },
  {
   "cell_type": "markdown",
   "id": "d8de0635",
   "metadata": {},
   "source": [
    "## Probability and Counting\n",
    "\n",
    "* $P(E)$ is the number of outcomes in $E$ divided by the number of outcomes in $S$\n",
    "* $P(E)$ = cardinality of $E$ vs cardinality of $S$\n",
    "\n",
    "```\n",
    "\t\t          n(E)\n",
    "\tP (E) = ------------------------    ,  iff S is a finite set\n",
    "\t\t          n(S)\n",
    "```\n",
    "\n",
    "Example:\n",
    "```python\n",
    "S = {hh, ht, th, tt}\n",
    "E = {hh}\n",
    "P(S) = n(S)/n(S) = 4/4 = 1 \n",
    "P(E) = n(E)/n(S) = 1/4\n",
    "```"
   ]
  },
  {
   "cell_type": "code",
   "execution_count": 4,
   "id": "037dce06",
   "metadata": {},
   "outputs": [
    {
     "name": "stdout",
     "output_type": "stream",
     "text": [
      "0.25\n",
      "0.25\n"
     ]
    }
   ],
   "source": [
    "coin   = {'hh', 'ht', 'th', 'tt'} # the sample space\n",
    "t  = {'th'} # an event \"on the first toss the coin lands heads and on the second toss the coin lands tails\"\n",
    "\n",
    "probability = compute_probability(t, coin)\n",
    "\n",
    "print(probability)\n",
    "\n",
    "probability = len(t)/len(coin)\n",
    "\n",
    "print(probability)"
   ]
  },
  {
   "cell_type": "markdown",
   "id": "dac1d4a4",
   "metadata": {},
   "source": [
    "Task: \n",
    "* find the nominator and denominator\n",
    "\n",
    "Combinatorics rules:\n",
    "* permutation – the order does matter (the order we put numbers in matters)\n",
    "* combination – the order does not matter "
   ]
  },
  {
   "cell_type": "markdown",
   "id": "a954003e",
   "metadata": {},
   "source": [
    "### Permutations with Repetition\n",
    "\n",
    "We use all the S elements every time (no reduction of the sample space $S$)\n",
    "* $P_{E,S} = n(S)^{n(E)}$ \n",
    "* $n(S)$ – the number of options\n",
    "* $n(E)$ – the size of combinations \n",
    "* $P_{E,S}$ - number of permutations (not probability) \n",
    "* $n(S)$, $n(E)$ – cardinality of S and E\n",
    "\n",
    "Example: \n",
    "\n",
    "The combination to a safe is composed of 4 digits. There are 10 numbers to choose from 0,1,2,3,4,5,6,7,8, 9 and we need to pick up  4 of them. The number of permutations is:\n",
    "\n",
    "$P_{S,E} = 10^4 = 10,000$\n"
   ]
  },
  {
   "cell_type": "markdown",
   "id": "b0ff4d57",
   "metadata": {},
   "source": [
    "### Permutations without Repetition\n",
    "\n",
    "We choose E elements from S distinguishable elements\n",
    "we use all the $S$ elements only the first time and consecutively reduce the number of available choices every \n",
    "following time\n",
    "```\n",
    "\t\t           n(S)!\n",
    "\tPE,S = ------------------------    ,  use the factorial function !\n",
    "\t\t       (n(S)-n(E))!\n",
    "```\n",
    "\n",
    "Example: \n",
    "\n",
    "How many different ways are there that 3 pool balls could be arranged out of 16 balls.\n",
    "```\n",
    "\t\t        16!\t        20,922,789,888,000\n",
    "\tPE,S = ----------  = ----------------------- = 3,360\n",
    "\t\t     (16-3)!\t      6,227,020,800\n",
    "```"
   ]
  },
  {
   "cell_type": "markdown",
   "id": "466cae5e",
   "metadata": {},
   "source": [
    "### Combinations with Repetition\n",
    "\n",
    "The number of combinations is the number of ways of choosing $E$ elements from $S$ distinguishable elements where the order of choice does not matter.\n",
    "\n",
    "We use all the S elements every time (no reduction of the sample space S)\n",
    "```\n",
    "\t          (n(S) + n(E) – 1)!\n",
    "  Ce,s = ---------------------------    , n(S) – the number of options, n(E) – the size of combinations \n",
    "\t         n(E))! * (n(S) – 1)!\n",
    "```\n",
    "\n",
    "Example: \n",
    "\n",
    "There are five flavors of ice cream: banana, chocolate, lemon, strawberry and vanilla (n(S) = 5). We can have three scoops (n(E) =3). How many variations will there be?\n",
    "```\n",
    "\t\t      (3+5-1)!          7!        5040\n",
    "\tCe,s = ---------------- = -------- = ------- = 35\n",
    "\t\t     3! * (5-1)!       3!*4!\t   144\n",
    "```"
   ]
  },
  {
   "cell_type": "markdown",
   "id": "086116b5",
   "metadata": {},
   "source": [
    "### Combinations without Repetition\n",
    "\n",
    "We use all the S elements only the first time and consecutively reduce the number of available choices every \n",
    "following time.\n",
    "```\n",
    "\t                 n(S)!\n",
    "\tCe,s = --------------------------    ,  use the factorial function !\n",
    "\t          n(E))! * (n(S)-n(E))!\n",
    "```\n",
    "\n",
    "Example: \n",
    "\n",
    "How many different choices are there where 3 pool balls could be chosen out of 16?\n",
    "```\n",
    "\t\t          16!\t            20,922,789,888,000\n",
    "\tCe,s = -----------------  = ------------------------- = 560\n",
    "\t\t     3! * (16-3)!\t          37,362,124,800\n",
    "```"
   ]
  },
  {
   "cell_type": "markdown",
   "id": "6bffb080",
   "metadata": {},
   "source": [
    "## Permutations/Combinations & Probability\n",
    "\n",
    "A probability P(E) is the number of permutations/combinations n(E) considered to be an event E divided by the total number of permutations/combinations n(S)\n",
    "```\n",
    "\t\t         n(E)\n",
    "\tP (E) = ------------ ,  iff S is a finite set\n",
    "\t\t         n(S)\n",
    "```\n",
    "\n",
    "Rules to solve a probability problem using permutations/combinations:\n",
    "* Set up a ratio to determine the probability.\n",
    "* Determine whether the numerator and denominator require combinations, permutations, or a mix? \n",
    "* Are these permutations/combinations with or without repetitions?\n",
    "* Identify the n(S) and n(E) to enter into the equations.\n",
    "\n",
    "\n",
    "Example: computing probability using combinations without repetition\n",
    "```\n",
    "X: A lottery game where 69 white balls are used by a machine to randomly select 5 of the balls. What is the probability of winning the game if the order does not matter?\n",
    "S = {1,…,69}\n",
    "E = {x1, x2, x3, x4, x5} , E ⊆  S , Ew ⊆  E (one wining combination Ew)\n",
    "\n",
    "\n",
    "     \t n(winning combinations)     n(Ew) \t        1           1\n",
    "P(E) = ------------------------ = ----------- = --------- = ----------- =  0.000000089\n",
    "\t        n(combinations)           CE,S \t        CE,S      11,238,513\n",
    "\n",
    "Recall how we compute Ce,s  for combinations without repetition:\n",
    "\n",
    " \t              n(S)!                   69!\n",
    "CE,S = ----------------------- =  ----------------------- =  11,238,513\n",
    "\t    n(E))! * (n(S)-n(E))!         5!*(69-5)!\n",
    "```"
   ]
  },
  {
   "cell_type": "markdown",
   "id": "98166ee1",
   "metadata": {},
   "source": [
    "## Probability Distribution\n",
    "\n",
    "### Random Variable\n",
    "\n",
    "* a function that can take on either a finite number of values, each with an associated probability, or an infinite number of values, whose probabilities are summarized by a density function\n",
    "* a function that assigns a numerical value to each outcome in S, i.e., a real-valued function defined on S\n",
    "\n",
    "Example:\n",
    "```\n",
    "If a coin is tossed three times, the sample space might be described by a list of 8 three-letter words,\n",
    "\tS = {TTT, TTH, THT, HTT, HHT, HTH, THH, HHH}\n",
    "\n",
    "Possible random variables: \n",
    "\tFx(S) = (#H’s in the word) = {0, 1, 2, 3}, X= #H’s in the word\n",
    "\tFy(S) = (#T’s in the word) = {0, 1, 2, 3}, Y = #T’s in the word\n",
    "```    "
   ]
  },
  {
   "cell_type": "markdown",
   "id": "bfcbfedb",
   "metadata": {},
   "source": [
    "### Probability Distribution for a Random Variable\n",
    "\n",
    "* Describes how the probabilities are distributed over the values of the random variable.\n",
    "* For a discrete random variable X the probability distribution is defined by a *probability mass function* (PMF), denoted by Fx(X). \n",
    "* Fx(X) - provides the probability for each value of the random variable \n",
    "```\n",
    "\tFx(X) = px(x) = P(X=x) for each x within the range of X\n",
    "    \n",
    "    Here P(X=x) is the probability of X=x\n",
    "```\n",
    "\n",
    "Rules for mass function Fx(X) for a discrete random variable X:\n",
    "1. Fx(X) ≥ 0 - must be nonnegative for each value of the random variable X\n",
    "2. Σx px(x) = 1 , sum of probabilities for each value of the random variable must = 1"
   ]
  },
  {
   "cell_type": "markdown",
   "id": "47de4c9f",
   "metadata": {},
   "source": [
    "### Bernoulli Distribution\n",
    "\n",
    "The simplest type of random experiment - it has only two outcomes: we can denote them by 0 and 1. \n",
    "A random variable X has the Bernoulli distribution with parameter p(0≤p≤1) if X can take only the values 0 and 1 and the probability of each value is\n",
    "\n",
    "$P(X=1) = p$\n",
    "\n",
    "$P(X=0) = 1-p$\n",
    "\n",
    "The PMF is:\n",
    "\n",
    "$Fx(X) = p^x(1-p)^{1-x}$ , $x = {0,1}$\n",
    "\n",
    "$Fx(1) = p^1(1-p)^{1-1} = p$\n",
    "\n",
    "$Fx(0) = p^0(1-p)^{1-0} = 1-p$\n",
    "\n",
    "\n",
    "Example:\n",
    "\n",
    "A random variable X with a Bernoulli distribution can represent a coin toss where $X=1$ and $X=0$ represent obtaining a head and a tail respectively, and p would be the probability of the coin landing on heads. For a fair coin, we have \n",
    "\n",
    "$p=0.5$"
   ]
  },
  {
   "cell_type": "markdown",
   "id": "4bc9182f",
   "metadata": {},
   "source": [
    "### Implementing PMF for Bernoulli Distribution with Python\n",
    "\n",
    "We can use the *scipy* library in Python to work with different probability distributions. We can create a Bernoulli distribution using the *Bernoulli* object in scipy.stat, and calculate its PMF using the *pmf()* method of this object. "
   ]
  },
  {
   "cell_type": "code",
   "execution_count": 5,
   "id": "03c82d8f",
   "metadata": {},
   "outputs": [
    {
     "name": "stdout",
     "output_type": "stream",
     "text": [
      "0.5\n",
      "0.7\n"
     ]
    }
   ],
   "source": [
    "from scipy.stats import bernoulli\n",
    "\n",
    "#calculate the PMF for X=1 and p=0.5\n",
    "x = 1\n",
    "p = 0.5\n",
    "\n",
    "p_x_1_0_5 = bernoulli.pmf(k=x, p=p)\n",
    "\n",
    "print(p_x_1_0_5)\n",
    "\n",
    "#calculate the PMF for X=1 and p=0.7\n",
    "x = 1\n",
    "p = 0.7\n",
    "\n",
    "p_x_1_0_7 = bernoulli.pmf(k=x, p=p)\n",
    "\n",
    "print(p_x_1_0_7)"
   ]
  },
  {
   "attachments": {
    "image-2.png": {
     "image/png": "[encoded data removed]"
    }
   },
   "cell_type": "markdown",
   "id": "a443e922",
   "metadata": {},
   "source": [
    "### Binomial Distribution\n",
    "\n",
    "We have n independent random variables $X₁$, $X₂$, ..., $Xₙ$, and each of them has a Bernoulli distribution with parameter $p$. \n",
    "\n",
    "<div>\n",
    " <img src=\"attachment:image-2.png\" width=\"450\"/>\n",
    "</div"
   ]
  },
  {
   "cell_type": "markdown",
   "id": "afe8f570",
   "metadata": {},
   "source": [
    "A coin lands heads with a probability of $p$ and the total number of heads that we get in $n$ tosses can be represented by a random variable $X$ that has a binomial distribution with parameters $n$ and $p$. \n",
    "\n",
    "We can use the object *binom* in *scipy* to generate a binomial distribution. The methods of this object take the parameters $k$, $n$, and $p$ which correspond to $x$, $n$, and $p$.\n"
   ]
  },
  {
   "cell_type": "code",
   "execution_count": 6,
   "id": "3cc4380b",
   "metadata": {},
   "outputs": [
    {
     "data": {
      "image/png": "[encoded data removed]",
      "text/plain": [
       "<Figure size 432x288 with 1 Axes>"
      ]
     },
     "metadata": {
      "needs_background": "light"
     },
     "output_type": "display_data"
    }
   ],
   "source": [
    "import numpy as np\n",
    "import matplotlib.pyplot as plt\n",
    "\n",
    "from scipy.stats import binom\n",
    "\n",
    "n = 8\n",
    "p = 0.5\n",
    "x = np.arange(0, n+1)\n",
    "\n",
    "binomial = binom.pmf(k=x,n=n, p=p)\n",
    "plt.bar(x, binomial)\n",
    "plt.xlabel('x', fontsize=14)\n",
    "plt.ylabel('Probability', fontsize=14)\n",
    "plt.xlim([-1, 9])\n",
    "plt.title('Binomial distribution, n={0}, p={1}'.format(n, p), fontsize= 15)\n",
    "plt.show()"
   ]
  },
  {
   "cell_type": "code",
   "execution_count": null,
   "id": "0ed93ee2",
   "metadata": {},
   "outputs": [],
   "source": []
  }
 ],
 "metadata": {
  "kernelspec": {
   "display_name": "Python 3 (ipykernel)",
   "language": "python",
   "name": "python3"
  },
  "language_info": {
   "codemirror_mode": {
    "name": "ipython",
    "version": 3
   },
   "file_extension": ".py",
   "mimetype": "text/x-python",
   "name": "python",
   "nbconvert_exporter": "python",
   "pygments_lexer": "ipython3",
   "version": "3.9.7"
  }
 },
 "nbformat": 4,
 "nbformat_minor": 5
}
