{
 "cells": [
  {
   "cell_type": "markdown",
   "id": "23c6d81e",
   "metadata": {},
   "source": [
    "\n",
    "# Probability - Part I\n",
    "\n",
    "by Emil Vassev\n",
    "\n",
    "January 25, 2023\n",
    "<br><br>\n",
    "Copyright (C) 2023 - All rights reserved, do not copy or distribute without permission of the author.\n",
    "***"
   ]
  },
  {
   "cell_type": "markdown",
   "id": "752d6b4d",
   "metadata": {},
   "source": [
    "<span style=\"color:blue\">Welcome to <b>Introduction to Probability with Python</b>, an interactive lecture designed to give you examples of implementing probability problems in Python.</span>"
   ]
  },
  {
   "cell_type": "markdown",
   "id": "a70f18d2",
   "metadata": {},
   "source": [
    "## Probability\n",
    "* mathematics concerned with numerical descriptions of how likely an event is to occur\n",
    "* degree of belief of an experiment $X$ (or phenomena) where all possible outcomes are known (denoted as sample space $S$) any subset of $S$ is called an event $E$\n",
    "* event $E$ occurs if the outcome of experiment $X$ is contained in $E$\n",
    "\n",
    "Example:\n",
    "```python\n",
    "X = tossing a die\n",
    "S = {1, 2, 3, 4, 5, 6} \n",
    "E = {2, 4, 6}  - an event \"the number is even\"\n",
    "```"
   ]
  },
  {
   "cell_type": "markdown",
   "id": "ef7ed6dc",
   "metadata": {},
   "source": [
    "## Events and Set Theory\n",
    "Set Theory provides the notation to describe and manipulate events:\n",
    "* $E ⊆  S, F ⊆  S$ events $E$ and $F$ are subsets of the sample space $S$\n",
    "* $E^c$ complement of $E$ - the set of all outcomes not in $E$\n",
    "* $E ∩ F$ intersection of $E$ and $F$ - the set of all outcomes in both $E$ and $F$\n",
    "* $E ∪ F$ union of $E$ and $F$ - the set of all outcomes in $E$ or in $F$ or in both $E$ and $F$\n",
    "* $E ⊆  F$ event $E$ is subset of $F$\n",
    "* $E ∩ F = ∅$  events $E$ and $F$ are mutually exclusive (disjoint )"
   ]
  },
  {
   "cell_type": "markdown",
   "id": "e78e3ea1",
   "metadata": {},
   "source": [
    "Commutativity:\n",
    "* $E ∪ F = F ∪ E$ \n",
    "* $E ∩ F = F ∩ E$\n",
    " \n",
    "Associativity:\n",
    "* $(E ∪ F) ∪ G = E ∪ (F ∪ G)$\n",
    "* $(E ∩ F) ∩ G = E ∩ (F ∩ G)$\n",
    "\n",
    "Distributivity:\n",
    "* $(E ∪ F) ∩ G = (E ∩ G) ∪ (F ∩ G)$\n",
    "* $(E ∩ F) ∪ G = (E ∪ G) ∩ (F ∪ G)$\n",
    "\n",
    "Morgan’s Laws:\n",
    "* $(E ∪ F)^c = E^c ∩ F^c$\n",
    "* $(E ∩ F)^c = E^c ∪ F^c$"
   ]
  },
  {
   "cell_type": "markdown",
   "id": "18c14842",
   "metadata": {},
   "source": [
    "## Computing Probability in Python\n",
    "\n",
    "We use the ```fractions``` library, which provides support for rational number arithmetic. We use the ```Fraction``` class to construct an object to calculate probability. A Fraction instance can be constructed from a pair of integers, from another rational number, or from a string. \n",
    "\n",
    "```python\n",
    "class fractions.Fraction(numerator=0, denominator=1)\n",
    "```\n",
    "\n",
    "For more information, please consult the reference page here: https://docs.python.org/3/library/fractions.html#fractions.Fraction"
   ]
  },
  {
   "cell_type": "code",
   "execution_count": 1,
   "id": "8e6bb4e3",
   "metadata": {},
   "outputs": [],
   "source": [
    "from fractions import Fraction\n",
    "\n",
    "cases = len # the number of cases is the length, or size, of a set\n",
    "favorable = set.intersection # outcomes that are in the event and in the sample space\n",
    "\n",
    "def compute_probability(event, space): ### The probability of an event, given a sample space.\n",
    "\n",
    "    result = Fraction(cases(favorable(event, space)), cases(space))\n",
    "    probability = result.numerator / result.denominator * 100\n",
    "    \n",
    "    return probability"
   ]
  },
  {
   "cell_type": "markdown",
   "id": "4e18ce0f",
   "metadata": {},
   "source": [
    "## Tossing a Fair Coin\n",
    "\n",
    "What's the probability of tossing a tail? \n",
    "\n",
    "Example:\n",
    "```python\n",
    "S = {h, t}\n",
    "P(S) = 1, P(h) = P(t) = ½\n",
    "```"
   ]
  },
  {
   "cell_type": "code",
   "execution_count": 2,
   "id": "fc3e683c",
   "metadata": {},
   "outputs": [
    {
     "name": "stdout",
     "output_type": "stream",
     "text": [
      "50.0\n"
     ]
    }
   ],
   "source": [
    "coin   = {'h', 't'} # the sample space\n",
    "t  = {'t'} # an event \"the coin lands tails\"\n",
    "\n",
    "probability = compute_probability(t, coin)\n",
    "\n",
    "print(probability)"
   ]
  },
  {
   "cell_type": "markdown",
   "id": "d8de0635",
   "metadata": {},
   "source": [
    "## Tossing a Fair Coin Twice\n",
    "\n",
    "Example:\n",
    "```python\n",
    "S = {hh, ht, th, tt}\n",
    "P(S) = 1, P(hh) = P(ht) = P(th) = P(tt) = 1/4\n",
    "```"
   ]
  },
  {
   "cell_type": "code",
   "execution_count": 3,
   "id": "037dce06",
   "metadata": {},
   "outputs": [
    {
     "name": "stdout",
     "output_type": "stream",
     "text": [
      "25.0\n"
     ]
    }
   ],
   "source": [
    "coin   = {'hh', 'ht', 'th', 'tt'} # the sample space\n",
    "t  = {'ht'} # an event \"on the first toss the coin lands heads and on the second toss the coin lands tails\"\n",
    "\n",
    "probability = compute_probability(t, coin)\n",
    "\n",
    "print(probability)"
   ]
  },
  {
   "cell_type": "markdown",
   "id": "dac1d4a4",
   "metadata": {},
   "source": [
    "## Tossing a Fair Die\n",
    "\n",
    "What's the probability of rolling an even number with a single six-sided fair die? \n",
    "\n",
    "Example:\n",
    "```python\n",
    "S = {1, 2, 3, 4, 5, 6} \n",
    "E = {2, 4, 6}  - an event \"the number is even\"\n",
    "O = {1, 3, 5}  - an event \"the number is odd\"\n",
    "P(S) = 1, P(E) = P(O) = ½\n",
    "```"
   ]
  },
  {
   "cell_type": "code",
   "execution_count": 4,
   "id": "03c82d8f",
   "metadata": {},
   "outputs": [
    {
     "name": "stdout",
     "output_type": "stream",
     "text": [
      "50.0\n"
     ]
    }
   ],
   "source": [
    "die = {1, 2, 3, 4, 5, 6} # the sample space\n",
    "even = {2, 4, 6} # an event \"the number is even\"\n",
    "\n",
    "probability = compute_probability(even, die)\n",
    "\n",
    "print(probability)"
   ]
  },
  {
   "cell_type": "code",
   "execution_count": 5,
   "id": "034a2558",
   "metadata": {},
   "outputs": [
    {
     "name": "stdout",
     "output_type": "stream",
     "text": [
      "66.66666666666666\n"
     ]
    }
   ],
   "source": [
    "die = {1, 2, 3, 4, 5, 6} # the sample space\n",
    "e = {1, 3, 6}\n",
    "f = {3, 4, 6}\n",
    "\n",
    "# what is P(E ∪ F)?\n",
    "probability = compute_probability(e | f, die)\n",
    "\n",
    "print(probability)"
   ]
  },
  {
   "cell_type": "code",
   "execution_count": 6,
   "id": "4b3a1422",
   "metadata": {},
   "outputs": [
    {
     "name": "stdout",
     "output_type": "stream",
     "text": [
      "33.33333333333333\n"
     ]
    }
   ],
   "source": [
    "# what is P(E ∩ F)?\n",
    "probability = compute_probability(e & f, die)\n",
    "\n",
    "print(probability)"
   ]
  },
  {
   "cell_type": "code",
   "execution_count": 7,
   "id": "9bc9202a",
   "metadata": {},
   "outputs": [
    {
     "name": "stdout",
     "output_type": "stream",
     "text": [
      "50.0\n"
     ]
    }
   ],
   "source": [
    "prime = {2, 3, 5, 7, 11, 13}\n",
    "\n",
    "probability = compute_probability(prime, die)\n",
    "\n",
    "print(probability)"
   ]
  },
  {
   "cell_type": "code",
   "execution_count": 8,
   "id": "14722e35",
   "metadata": {},
   "outputs": [
    {
     "name": "stdout",
     "output_type": "stream",
     "text": [
      "50.0\n"
     ]
    }
   ],
   "source": [
    "odd   = {1, 3, 5, 7, 9, 11, 13}\n",
    "\n",
    "probability = compute_probability(odd, die)\n",
    "\n",
    "print(probability)"
   ]
  },
  {
   "cell_type": "code",
   "execution_count": 9,
   "id": "d72b9314",
   "metadata": {},
   "outputs": [
    {
     "name": "stdout",
     "output_type": "stream",
     "text": [
      "66.66666666666666\n"
     ]
    }
   ],
   "source": [
    "probability = compute_probability((odd | prime), die) # The probability of an odd or prime die roll\n",
    "print(probability)"
   ]
  },
  {
   "cell_type": "markdown",
   "id": "8e855581",
   "metadata": {},
   "source": [
    "## Conditional Probability\n",
    "\n",
    "* simplify the specification of probabilities by describing them in terms of conditional probabilities\n",
    "* defined as the ”likelihood of an event occurring, based on the occurrence of another event”: *the conditional probability $P(E|F)$ of an event $E$ given an event $F$, is the probability that $E$ occurs given that $F$ has occurred*\n"
   ]
  },
  {
   "cell_type": "markdown",
   "id": "5d24bee5",
   "metadata": {},
   "source": [
    "The conditional probability that event $E$ occurs, given that event $F$ has occurred, is calculated as follows:\n",
    "\n",
    "$P(E|F) = P(E ∩ F) / P(F)$\n",
    "\n",
    "where:\n",
    "\n",
    "* $P(E ∩ F)$ = the probability that event $E$ and event $F$ both occur \n",
    "* $P(F)$ = the probability that event $F$ occurs\n",
    "\n",
    "Example: *tossing a die to determine the probability that a 2 was rolled, given an even number had been rolled*\n",
    "```python\n",
    "S = {1, 2, 3, 4, 5, 6} \n",
    "E = {2}  - an event \"the number is 2\"\n",
    "F = {2, 4, 6}  - an event \"the number is even\"\n",
    "P(E|F) = P(E ∩ F) / P(F) = (1/6) / (1/2) = 2/6 = 1/3 ≈ 33.33 %\n",
    "```"
   ]
  },
  {
   "cell_type": "code",
   "execution_count": 10,
   "id": "332fb9e5",
   "metadata": {},
   "outputs": [
    {
     "name": "stdout",
     "output_type": "stream",
     "text": [
      "16.666666666666664\n",
      "50.0\n",
      "33.33333333333333\n"
     ]
    }
   ],
   "source": [
    "die = {1, 2, 3, 4, 5, 6} # the sample space\n",
    "e = {2}\n",
    "f = {2, 4, 6}\n",
    "\n",
    "probability_e_and_f = compute_probability(e & f, die)\n",
    "probability_f = compute_probability(f, die)\n",
    "probability_e_if_f = (probability_e_and_f / probability_f) * 100\n",
    "\n",
    "print(probability_e_and_f)\n",
    "\n",
    "print(probability_f)\n",
    "\n",
    "print(probability_e_if_f )"
   ]
  },
  {
   "cell_type": "markdown",
   "id": "43022207",
   "metadata": {},
   "source": [
    "### Composite Probability\n",
    "\n",
    "Composite probability P(E∩F) can be determined based on the conditional probability\n",
    "\n",
    "General multiplication:\n",
    "* $P(E ∩ F) = P(F) * P(E|F)$\n",
    "\n",
    "Example: *Tossing a die. Find the composite probability of $E$ and $F$.* \n",
    "\n",
    "```python\n",
    "S = {1, 2, 3, 4, 5, 6} \n",
    "P(S) = 1, P(1) = P(2) = P(3) = P(4) = P(5) = P(6) = 1/6\n",
    "E = {2}  - an event \"the number is 2“, P(E) = 1/6 \n",
    "F = {2, 4, 6}  - an event \"the number is even“, P(F) = 3/6\n",
    "P(E|F) = 1/3  - the outer space now is {2, 4, 6}\n",
    "\n",
    "P(E ∩ F) = P(F) * P(E|F) = 1/2 * 1/3 = 1/6\n",
    "```"
   ]
  },
  {
   "cell_type": "code",
   "execution_count": 11,
   "id": "a9735494",
   "metadata": {},
   "outputs": [
    {
     "name": "stdout",
     "output_type": "stream",
     "text": [
      "50.0\n",
      "33.33333333333333\n",
      "16.666666666666664\n"
     ]
    }
   ],
   "source": [
    "die = {1, 2, 3, 4, 5, 6} # the sample space\n",
    "e = {2}\n",
    "f = {2, 4, 6}\n",
    "\n",
    "probability_f = compute_probability(f, die)\n",
    "probability_e_if_f = 1/3 * 100\n",
    "\n",
    "probability_e_and_f = (probability_f * probability_e_if_f)/100\n",
    "\n",
    "print(probability_f)\n",
    "\n",
    "print(probability_e_if_f )\n",
    "\n",
    "print(probability_e_and_f)"
   ]
  },
  {
   "cell_type": "markdown",
   "id": "09ac8603",
   "metadata": {},
   "source": [
    "## Independent Events\n",
    "\n",
    "The occurrence of $F$ has no effect upon the specification of the probability of $E$\n",
    "\n",
    "Properties of independent events:\n",
    "* events $E$ and $F$ in $S$ are independent if: $P(E) = P(E|F)$ \n",
    "* if events $E$ and $F$ in $S$ are independent then:\n",
    " - $P(E|F) = P(E|F^c)$ \n",
    " - $P(E∩F) = P(E) * P(F)$    (multiplication)\n",
    " \n",
    "Example: *Tossing a die. Find P(E|F)*\n",
    "```python\n",
    "S = {1, 2, 3, 4, 5, 6} \n",
    "P(S) = 1, P(1) = P(2) = P(3) = P(4) = P(5) = P(6) = 1/6\n",
    "E = {1, 3, 5}  “an odd number is thrown”\n",
    "F = {1, 2}  “the number thrown is less than 3”\n",
    "E = {1} ∪ {3} ∪ {5}, F = {1} ∪ {2}\n",
    "E ∩ F = {1}\n",
    "```"
   ]
  },
  {
   "cell_type": "code",
   "execution_count": 12,
   "id": "e3143ee9",
   "metadata": {},
   "outputs": [
    {
     "name": "stdout",
     "output_type": "stream",
     "text": [
      "50.0\n",
      "50.0\n"
     ]
    }
   ],
   "source": [
    "die = {1, 2, 3, 4, 5, 6} # the sample space\n",
    "e = {1, 3, 5} # an odd number is thrown\n",
    "f = {1, 2} # the number thrown is less than 3\n",
    "\n",
    "# check if 𝑃(e)=𝑃(e|f)\n",
    "\n",
    "probability_e = compute_probability(e, die)\n",
    "\n",
    "probability_e_and_f = compute_probability(e & f, die)\n",
    "probability_f = compute_probability(f, die)\n",
    "\n",
    "probability_e_if_f = (probability_e_and_f / probability_f) * 100\n",
    "\n",
    "print(probability_e)\n",
    "\n",
    "print(probability_e_if_f )"
   ]
  },
  {
   "cell_type": "code",
   "execution_count": null,
   "id": "8ace72e1",
   "metadata": {},
   "outputs": [],
   "source": []
  }
 ],
 "metadata": {
  "kernelspec": {
   "display_name": "Python 3 (ipykernel)",
   "language": "python",
   "name": "python3"
  },
  "language_info": {
   "codemirror_mode": {
    "name": "ipython",
    "version": 3
   },
   "file_extension": ".py",
   "mimetype": "text/x-python",
   "name": "python",
   "nbconvert_exporter": "python",
   "pygments_lexer": "ipython3",
   "version": "3.9.7"
  }
 },
 "nbformat": 4,
 "nbformat_minor": 5
}
