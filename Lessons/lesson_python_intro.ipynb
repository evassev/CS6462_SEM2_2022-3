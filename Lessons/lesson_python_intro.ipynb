{
 "cells": [
  {
   "cell_type": "markdown",
   "id": "23c6d81e",
   "metadata": {},
   "source": [
    "\n",
    "# Introduction to Python\n",
    "\n",
    "by Emil Vassev\n",
    "\n",
    "September 12, 2022\n",
    "<br>\n",
    "September 21, 2022\n",
    "<br><br>\n",
    "Copyright (C) 2022 - All rights reserved, do not copy or distribute without permission of the author.\n",
    "***"
   ]
  },
  {
   "cell_type": "markdown",
   "id": "752d6b4d",
   "metadata": {},
   "source": [
    "<span style=\"color:blue\">Welcome to <b>Introduction to Python</b>, an interactive lecture designed to teach you the bascis of Python.</span>"
   ]
  },
  {
   "cell_type": "markdown",
   "id": "a70f18d2",
   "metadata": {},
   "source": [
    "## Mighty Python\n",
    "\"<i>Python is a high-level, general-purpose programming language. Its design philosophy emphasizes code readability with the use of significant indentation. Python is dynamically-typed and garbage-collected. It supports multiple programming paradigms, including structured, object-oriented and functional programming.</i>\"<br>\n",
    "Wikipedia"
   ]
  },
  {
   "cell_type": "markdown",
   "id": "90e89cc3",
   "metadata": {},
   "source": [
    "## Getting Started with Python:\n",
    "\n",
    "* https://www.codecademy.com/learn/python\n",
    "* http://docs.python-guide.org/en/latest/intro/learning/\n",
    "* https://learnpythonthehardway.org/book/\n",
    "* https://www.codementor.io/learn-python-online\n",
    "* https://websitesetup.org/python-cheat-sheet/\n",
    "* https://docs.python.org/3.5/reference/"
   ]
  },
  {
   "cell_type": "markdown",
   "id": "d287b378",
   "metadata": {},
   "source": [
    "In this interactive leson, we will cover the following aspects of Python:\n",
    "- A. Stamenets\n",
    "- B. Classes and Objects\n",
    "- C. Modules"
   ]
  },
  {
   "cell_type": "markdown",
   "id": "df881131",
   "metadata": {},
   "source": [
    "## A. Statements\n",
    "Python is an imperative language based on statements, i.e., programs in Python are composed of statements. A statement can be:\n",
    "\n",
    "* a single expression\n",
    "* an assignment\n",
    "* a function call\n",
    "* a function definition\n",
    "* a conditional statement\n",
    "* a loop"
   ]
  },
  {
   "cell_type": "markdown",
   "id": "d87cb452",
   "metadata": {},
   "source": [
    "### Single Expressons\n",
    "#### 1.  Numbers\n",
    "Python has three built-in numeric data types: **integers**, **floating-point** numbers, and **complex numbers**."
   ]
  },
  {
   "cell_type": "code",
   "execution_count": 1,
   "id": "46e2ae31",
   "metadata": {},
   "outputs": [
    {
     "data": {
      "text/plain": [
       "9"
      ]
     },
     "execution_count": 1,
     "metadata": {},
     "output_type": "execute_result"
    }
   ],
   "source": [
    "9 # an integer"
   ]
  },
  {
   "cell_type": "code",
   "execution_count": 2,
   "id": "4f93dfa1",
   "metadata": {},
   "outputs": [
    {
     "data": {
      "text/plain": [
       "-9.34"
      ]
     },
     "execution_count": 2,
     "metadata": {},
     "output_type": "execute_result"
    }
   ],
   "source": [
    "-9.34 # a float"
   ]
  },
  {
   "cell_type": "code",
   "execution_count": 3,
   "id": "e5714a62",
   "metadata": {},
   "outputs": [
    {
     "data": {
      "text/plain": [
       "True"
      ]
     },
     "execution_count": 3,
     "metadata": {},
     "output_type": "execute_result"
    }
   ],
   "source": [
    "# check if float is integer\n",
    "n = 2.0\n",
    "n.is_integer()"
   ]
  },
  {
   "cell_type": "markdown",
   "id": "16bf48ed",
   "metadata": {},
   "source": [
    "To create a **complex number** in Python, you simply write the real part, then a plus sign, then the imaginary part with the letter j at the end."
   ]
  },
  {
   "cell_type": "code",
   "execution_count": 4,
   "id": "d7851ffa",
   "metadata": {},
   "outputs": [],
   "source": [
    "n = 1 + 2j"
   ]
  },
  {
   "cell_type": "code",
   "execution_count": 5,
   "id": "e6e71a4a",
   "metadata": {},
   "outputs": [
    {
     "data": {
      "text/plain": [
       "(1+2j)"
      ]
     },
     "execution_count": 5,
     "metadata": {},
     "output_type": "execute_result"
    }
   ],
   "source": [
    "# inspecting n: Python wraps the number with parentheses\n",
    "n"
   ]
  },
  {
   "cell_type": "markdown",
   "id": "b27cef3f",
   "metadata": {},
   "source": [
    "Imaginary numbers come with two properties, `.real` and `.imag`, that return the real and imaginary components of the number, respectively."
   ]
  },
  {
   "cell_type": "code",
   "execution_count": 6,
   "id": "df2370bd",
   "metadata": {},
   "outputs": [
    {
     "name": "stdout",
     "output_type": "stream",
     "text": [
      "1.0\n",
      "2.0\n"
     ]
    }
   ],
   "source": [
    "print(n.real) #print statement is used to evaluats and print a variable/expression\n",
    "print(n.imag)"
   ]
  },
  {
   "cell_type": "markdown",
   "id": "3a3f9495",
   "metadata": {},
   "source": [
    "#### 2. Strings"
   ]
  },
  {
   "cell_type": "code",
   "execution_count": 7,
   "id": "a2384fc4",
   "metadata": {},
   "outputs": [
    {
     "name": "stdout",
     "output_type": "stream",
     "text": [
      "University\n",
      "University of Limerick\n"
     ]
    }
   ],
   "source": [
    "s1 = 'University'\n",
    "s2 = \"University of Limerick\"\n",
    "print(s1)\n",
    "print(s2)"
   ]
  },
  {
   "cell_type": "markdown",
   "id": "f45c8dda",
   "metadata": {},
   "source": [
    "#### 3. Booleans"
   ]
  },
  {
   "cell_type": "code",
   "execution_count": 8,
   "id": "5e49c688",
   "metadata": {},
   "outputs": [
    {
     "name": "stdout",
     "output_type": "stream",
     "text": [
      "True\n",
      "False\n"
     ]
    }
   ],
   "source": [
    "b1 = True\n",
    "b2 = False\n",
    "print(b1)\n",
    "print(b2)"
   ]
  },
  {
   "cell_type": "markdown",
   "id": "2768cba8",
   "metadata": {},
   "source": [
    "#### 4. Data Structures\n",
    "Python has two very useful data structures built into the language:\n",
    "\n",
    "* dictionaries (hash tables): {}\n",
    "* lists: []"
   ]
  },
  {
   "cell_type": "code",
   "execution_count": 9,
   "id": "2d0b2bc4",
   "metadata": {},
   "outputs": [
    {
     "name": "stdout",
     "output_type": "stream",
     "text": [
      "[1, 2, 3, 4]\n",
      "['one', 'two', 'three', 'four']\n"
     ]
    }
   ],
   "source": [
    "myList = [1,2,3,4]\n",
    "print(myList)\n",
    "myStrList = ['one','two',\"three\",'four']\n",
    "print(myStrList)"
   ]
  },
  {
   "cell_type": "code",
   "execution_count": 10,
   "id": "64234f34",
   "metadata": {},
   "outputs": [
    {
     "name": "stdout",
     "output_type": "stream",
     "text": [
      "{'color': 'red', 'shape': 'rectangle', 'price': 23.45}\n"
     ]
    }
   ],
   "source": [
    "myDict = {'color':'red', 'shape':'rectangle', 'price':23.45}\n",
    "print(myDict)"
   ]
  },
  {
   "cell_type": "markdown",
   "id": "daece2e3",
   "metadata": {},
   "source": [
    "### Assignments\n",
    "The assignment operator, denoted by the “=” symbol, is the operator that is used to assign values to variables in Python."
   ]
  },
  {
   "cell_type": "code",
   "execution_count": 11,
   "id": "4a58afe2",
   "metadata": {},
   "outputs": [],
   "source": [
    "n = 1\n",
    "str = 'EUR'\n",
    "myDict = {'color':'red', 'shape':'rectangle', 'price':23.45}"
   ]
  },
  {
   "cell_type": "markdown",
   "id": "2a1ea8aa",
   "metadata": {},
   "source": [
    "### Function Calls\n",
    "\n",
    "There are built-in Python functions and user-defined functions."
   ]
  },
  {
   "cell_type": "markdown",
   "id": "83894093",
   "metadata": {},
   "source": [
    "#### 1. Built-in Python Functions\n",
    "The built-in Python functions are pre-defined by the python interpreter. There are 68 built-in python functions. These functions perform a specific task and can be used in any program, depending on the requirement of the user.\n",
    "<div>\n",
    "<img src=\"images/built-in-functions_in_python.png\"/>\n",
    "</div> "
   ]
  },
  {
   "cell_type": "markdown",
   "id": "50c34f3a",
   "metadata": {},
   "source": [
    "Examples of using built-in functions:"
   ]
  },
  {
   "cell_type": "code",
   "execution_count": 12,
   "id": "de357709",
   "metadata": {},
   "outputs": [
    {
     "name": "stdout",
     "output_type": "stream",
     "text": [
      "1.678\n",
      "-2\n"
     ]
    }
   ],
   "source": [
    "n = abs(-1.678)\n",
    "print(n)\n",
    "l = round(-1.678)\n",
    "print(l)"
   ]
  },
  {
   "cell_type": "markdown",
   "id": "36e14844",
   "metadata": {},
   "source": [
    "#### 2. User-Defined Python Functions"
   ]
  },
  {
   "cell_type": "markdown",
   "id": "c911d9e1",
   "metadata": {},
   "source": [
    "All the functions written by users come under the category of user-defined functions.  \n",
    "\n",
    "In python, we define the user-defined function using the `def` keyword, followed by the function name. Function name is followed by the parameters in parenthesis, followed by the colon. Then, an indented block of statements follows the function name and arguments which contains the body of the function. "
   ]
  },
  {
   "cell_type": "code",
   "execution_count": 13,
   "id": "e73e8cf2",
   "metadata": {},
   "outputs": [],
   "source": [
    "def my_function_1(x, y):\n",
    "    result = x + y\n",
    "    \n",
    "    return result"
   ]
  },
  {
   "cell_type": "markdown",
   "id": "eedc8eed",
   "metadata": {},
   "source": [
    "We call a user-defined function as we call the built-in functions: by using the function name followed by the arguments put in parenthesis."
   ]
  },
  {
   "cell_type": "code",
   "execution_count": 14,
   "id": "e4880a9e",
   "metadata": {},
   "outputs": [
    {
     "name": "stdout",
     "output_type": "stream",
     "text": [
      "6\n"
     ]
    }
   ],
   "source": [
    "result = my_function_1(2,4)\n",
    "print(result)"
   ]
  },
  {
   "cell_type": "markdown",
   "id": "9385488e",
   "metadata": {},
   "source": [
    "**Default Arguments**\n",
    "\n",
    "A default argument is a parameter that assumes a default value if a value is not provided in the function call for that argument."
   ]
  },
  {
   "cell_type": "code",
   "execution_count": 15,
   "id": "1551fc53",
   "metadata": {},
   "outputs": [
    {
     "name": "stdout",
     "output_type": "stream",
     "text": [
      "7\n",
      "6\n"
     ]
    }
   ],
   "source": [
    "def my_function_2(x, y = 5):\n",
    "    result = x + y\n",
    "    \n",
    "    return result\n",
    "    \n",
    "print(my_function_2(2)) #we use the default argument\n",
    "print(my_function_2(2, 4))"
   ]
  },
  {
   "cell_type": "markdown",
   "id": "183863f4",
   "metadata": {},
   "source": [
    "#### 3. Unnamed Functions (lambda Functions)\n",
    "In Python, we can create unnamed functions, using the `lambda` keyword."
   ]
  },
  {
   "cell_type": "code",
   "execution_count": 16,
   "id": "e7571b89",
   "metadata": {},
   "outputs": [
    {
     "name": "stdout",
     "output_type": "stream",
     "text": [
      "4\n",
      "4\n"
     ]
    }
   ],
   "source": [
    "f1 = lambda x: x**2\n",
    "    \n",
    "# is equivalent to \n",
    "def f2(x):\n",
    "    return x**2\n",
    "\n",
    "print (f1(2))\n",
    "print (f2(2))"
   ]
  },
  {
   "cell_type": "markdown",
   "id": "d1b331ab",
   "metadata": {},
   "source": [
    "#### 4. Inner Python Functions\n",
    "\n",
    "Inner functions, also known as nested functions, are functions that we define inside other functions. In Python, this kind of functions have direct access to variables and names defined in the enclosing function."
   ]
  },
  {
   "cell_type": "code",
   "execution_count": 17,
   "id": "4167da27",
   "metadata": {},
   "outputs": [
    {
     "name": "stdout",
     "output_type": "stream",
     "text": [
      "Hello, World!\n"
     ]
    }
   ],
   "source": [
    "def outer_func():\n",
    "    \n",
    "    def inner_func(): #defined within the scope of outer_func()\n",
    "        print(\"Hello, World!\")\n",
    "    \n",
    "    inner_func()\n",
    "\n",
    "\n",
    "outer_func()"
   ]
  },
  {
   "cell_type": "markdown",
   "id": "05ab15d1",
   "metadata": {},
   "source": [
    "A common use case of inner functions arises when we need to protect, or hide, a given function so that the function is totally hidden from the global scope. This kind of behavior is commonly known as encapsulation.\n",
    "<br><br>\n",
    "A more complex example."
   ]
  },
  {
   "cell_type": "code",
   "execution_count": 18,
   "id": "6211f97c",
   "metadata": {},
   "outputs": [],
   "source": [
    "def factorial(number):\n",
    "    result = 0\n",
    "    \n",
    "    # Validate input\n",
    "    if not isinstance(number, int):\n",
    "        print(\"The 'number' must be an integer.\")\n",
    "    elif number < 0:\n",
    "        print(\"The 'number' must be zero or positive.\")\n",
    "    else:\n",
    "        # calculate the factorial of number\n",
    "        def calc_factorial(number):\n",
    "            if number <= 1:\n",
    "                return 1\n",
    "            else:\n",
    "                return number * calc_factorial(number - 1)\n",
    "    \n",
    "        result = calc_factorial(number)\n",
    "    \n",
    "    return result\n",
    "    "
   ]
  },
  {
   "cell_type": "code",
   "execution_count": 19,
   "id": "43c8a0f2",
   "metadata": {},
   "outputs": [
    {
     "data": {
      "text/plain": [
       "120"
      ]
     },
     "execution_count": 19,
     "metadata": {},
     "output_type": "execute_result"
    }
   ],
   "source": [
    "factorial(5)"
   ]
  },
  {
   "cell_type": "code",
   "execution_count": 20,
   "id": "6be5e86d",
   "metadata": {},
   "outputs": [
    {
     "name": "stdout",
     "output_type": "stream",
     "text": [
      "The 'number' must be zero or positive.\n"
     ]
    },
    {
     "data": {
      "text/plain": [
       "0"
      ]
     },
     "execution_count": 20,
     "metadata": {},
     "output_type": "execute_result"
    }
   ],
   "source": [
    "factorial(-5)"
   ]
  },
  {
   "cell_type": "code",
   "execution_count": 21,
   "id": "9efcc34b",
   "metadata": {},
   "outputs": [
    {
     "name": "stdout",
     "output_type": "stream",
     "text": [
      "The 'number' must be an integer.\n"
     ]
    },
    {
     "data": {
      "text/plain": [
       "0"
      ]
     },
     "execution_count": 21,
     "metadata": {},
     "output_type": "execute_result"
    }
   ],
   "source": [
    "factorial(0.5)"
   ]
  },
  {
   "cell_type": "markdown",
   "id": "6d265302",
   "metadata": {},
   "source": [
    "### Conditional Statements\n",
    "Decision-making is as important in any programming language. Decision-making in a programming language is automated using **conditional statements**, in which Python evaluates the code to see if it meets the specified conditions.\n",
    "\n",
    "The conditions are evaluated and processed as *true* or *false*."
   ]
  },
  {
   "cell_type": "markdown",
   "id": "0e721b48",
   "metadata": {},
   "source": [
    "Python has six conditional statements that are used in decision-making:\n",
    "\n",
    "* if statement\n",
    "* if-else statement\n",
    "* if-elif ladder\n",
    "* nested if statement\n",
    "* short-hand if statement\n",
    "* short-hand if-else statement"
   ]
  },
  {
   "cell_type": "markdown",
   "id": "fece952e",
   "metadata": {},
   "source": [
    "#### 1. if statement"
   ]
  },
  {
   "cell_type": "markdown",
   "id": "a5ea554c",
   "metadata": {},
   "source": [
    "The if statement in Python has the subsequent syntax:\n",
    "```python\n",
    "if expression:\n",
    "    statements\n",
    "```\n",
    "Examples:"
   ]
  },
  {
   "cell_type": "code",
   "execution_count": 22,
   "id": "b0fd6ebb",
   "metadata": {},
   "outputs": [
    {
     "name": "stdout",
     "output_type": "stream",
     "text": [
      "5 is a positive number.\n",
      "This statement is true.\n"
     ]
    }
   ],
   "source": [
    "x = 5\n",
    "if x > 0:\n",
    "    print(x, \"is a positive number.\")\n",
    "    print(\"This statement is true.\")"
   ]
  },
  {
   "cell_type": "code",
   "execution_count": 23,
   "id": "8beec340",
   "metadata": {},
   "outputs": [
    {
     "name": "stdout",
     "output_type": "stream",
     "text": [
      "Welcome to the module material.\n",
      "This statement is true.\n"
     ]
    }
   ],
   "source": [
    "s = 'Welcome'\n",
    "if s == 'Welcome':\n",
    "    print(s, \"to the module material.\")\n",
    "    print(\"This statement is true.\")"
   ]
  },
  {
   "cell_type": "markdown",
   "id": "e03a9423",
   "metadata": {},
   "source": [
    "#### 2. if-else Statement\n",
    "\n",
    "This statement is used when both the true and false parts of a given condition are specified to be executed. \n",
    "```python\n",
    "if expression:\n",
    "    statements_1\n",
    "else:\n",
    "    statements_2\n",
    "```"
   ]
  },
  {
   "cell_type": "code",
   "execution_count": 24,
   "id": "a9be4420",
   "metadata": {},
   "outputs": [
    {
     "name": "stdout",
     "output_type": "stream",
     "text": [
      "Negative number\n"
     ]
    }
   ],
   "source": [
    "x = -5\n",
    "if x >= 0:\n",
    "    print(\"Positive or Zero\")\n",
    "else:\n",
    "     print(\"Negative number\")"
   ]
  },
  {
   "cell_type": "markdown",
   "id": "c061c8cb",
   "metadata": {},
   "source": [
    "#### 3. if-elif-else Statement\n",
    "\n",
    "In this case, the `if` condition is evaluated first. If it is false, then the `elif` statement will be executed and if it also comes false, then the `else` statement will be executed.\n",
    "```python\n",
    "if expression_1:\n",
    "    statements_1\n",
    "elif expression_2:\n",
    "    statements_2\n",
    "else:\n",
    "    statements_3\n",
    "```"
   ]
  },
  {
   "cell_type": "code",
   "execution_count": 25,
   "id": "f074376b",
   "metadata": {},
   "outputs": [
    {
     "name": "stdout",
     "output_type": "stream",
     "text": [
      "Zero\n"
     ]
    }
   ],
   "source": [
    "x = 0\n",
    "if x > 0:\n",
    "    print(\"Positive number\")\n",
    "elif x == 0:\n",
    "    print(\"Zero\")\n",
    "else:\n",
    "    print(\"Negative number\")"
   ]
  },
  {
   "cell_type": "markdown",
   "id": "5f727d21",
   "metadata": {},
   "source": [
    "#### 4. Nested if Statement\n",
    "\n",
    "A nested `if` statement is one where an `if` statement is placed inside another `if` statement. This is used when a variable must be processed more than once. In nested `if` statements, use indentation (whitespace at the beginning) to determine the scope of each statement.\n",
    "```python\n",
    "if expression_1:\n",
    "    statements_1\n",
    "    \n",
    "    if expression_2:\n",
    "        statements_2\n",
    "    else:\n",
    "        statements_3\n",
    "        \n",
    "else:\n",
    "    statements_4\n",
    "```"
   ]
  },
  {
   "cell_type": "code",
   "execution_count": 26,
   "id": "97fba691",
   "metadata": {},
   "outputs": [
    {
     "name": "stdout",
     "output_type": "stream",
     "text": [
      "number is >= zero\n",
      "zero\n"
     ]
    }
   ],
   "source": [
    "x = 0\n",
    "if x >= 0:\n",
    "    print(\"number is >= zero\")\n",
    "    if x == 0:\n",
    "        print(\"zero\")\n",
    "    else:\n",
    "        print(\"positive number\")\n",
    "else:\n",
    "    print(\"negative number\")"
   ]
  },
  {
   "cell_type": "markdown",
   "id": "43d831de",
   "metadata": {},
   "source": [
    "#### 5. Short-Hand if Statement\n",
    "\n",
    "Short-hand `if` statement is used when only one statement needs to be executed inside the if block. This statement can be provided in the same line that holds the `if` statement.\n",
    "```python\n",
    "if expression: statement\n",
    "```"
   ]
  },
  {
   "cell_type": "code",
   "execution_count": 27,
   "id": "98ca62bc",
   "metadata": {},
   "outputs": [
    {
     "name": "stdout",
     "output_type": "stream",
     "text": [
      "x is greater than 4\n"
     ]
    }
   ],
   "source": [
    "x=5\n",
    "# one-line if statement\n",
    "if x > 4: print (\"x is greater than 4\")"
   ]
  },
  {
   "cell_type": "markdown",
   "id": "49c21d62",
   "metadata": {},
   "source": [
    "#### 6. Short-Hand if-else Statement\n",
    "\n",
    "It is used to provide `if-else` statements in one line when there is only one statement to be executed in both `if` and `else` blocks. \n",
    "```python\n",
    "statement_1 if expression else statement_2\n",
    "```"
   ]
  },
  {
   "cell_type": "code",
   "execution_count": 28,
   "id": "2977c50b",
   "metadata": {},
   "outputs": [
    {
     "name": "stdout",
     "output_type": "stream",
     "text": [
      "x\n"
     ]
    }
   ],
   "source": [
    "x = 4\n",
    "y = 3\n",
    "print(\"x\") if x > y else print(\"y\")"
   ]
  },
  {
   "cell_type": "markdown",
   "id": "d39a6944",
   "metadata": {},
   "source": [
    "### Loops\n",
    "\n",
    "In Python, loops can be programmed in a number of different ways. There are two types of loops in Python, `for` and `while`."
   ]
  },
  {
   "cell_type": "markdown",
   "id": "102a6629",
   "metadata": {},
   "source": [
    "#### 1. for Loops\n",
    "The most common loops are the `for` loops, which are used together with iterable objects, such as lists. \n",
    "The basic syntax is:"
   ]
  },
  {
   "cell_type": "code",
   "execution_count": 29,
   "id": "9485d355",
   "metadata": {},
   "outputs": [
    {
     "name": "stdout",
     "output_type": "stream",
     "text": [
      "2\n",
      "3\n",
      "5\n",
      "7\n"
     ]
    }
   ],
   "source": [
    "primes = [2, 3, 5, 7]\n",
    "for prime in primes:\n",
    "    print(prime)"
   ]
  },
  {
   "cell_type": "markdown",
   "id": "0e834839",
   "metadata": {},
   "source": [
    "For loops can iterate over a sequence of numbers using the \"range\" function. Note that the range function is zero-based."
   ]
  },
  {
   "cell_type": "code",
   "execution_count": 30,
   "id": "b9407737",
   "metadata": {},
   "outputs": [
    {
     "name": "stdout",
     "output_type": "stream",
     "text": [
      "0\n",
      "1\n",
      "2\n",
      "3\n",
      "3\n",
      "4\n",
      "5\n",
      "3\n",
      "5\n",
      "7\n"
     ]
    }
   ],
   "source": [
    "# Prints out the numbers 0,1,2,3\n",
    "for x in range(4):\n",
    "    print(x)\n",
    "\n",
    "# Prints out 3,4,5\n",
    "for x in range(3, 6):\n",
    "    print(x)\n",
    "\n",
    "# Prints out 3,5,7\n",
    "for x in range(3, 8, 2):\n",
    "    print(x)"
   ]
  },
  {
   "cell_type": "markdown",
   "id": "ce11add4",
   "metadata": {},
   "source": [
    "We can use `for` loops to iterate over key-value pairs of a dictionary."
   ]
  },
  {
   "cell_type": "code",
   "execution_count": 31,
   "id": "3f993e88",
   "metadata": {},
   "outputs": [
    {
     "name": "stdout",
     "output_type": "stream",
     "text": [
      "parameter1 = A\n",
      "parameter2 = B\n",
      "parameter3 = C\n"
     ]
    }
   ],
   "source": [
    "params = {\"parameter1\" : 'A',\n",
    "          \"parameter2\" : 'B',\n",
    "          \"parameter3\" : 'C'}\n",
    "\n",
    "for key, value in params.items():\n",
    "    print(key + \" = \" + value)"
   ]
  },
  {
   "cell_type": "markdown",
   "id": "c08dd1ee",
   "metadata": {},
   "source": [
    "#### 2. while Loops\n",
    "While loops repeat as long as a certain boolean condition is met."
   ]
  },
  {
   "cell_type": "code",
   "execution_count": 32,
   "id": "615dc889",
   "metadata": {},
   "outputs": [
    {
     "name": "stdout",
     "output_type": "stream",
     "text": [
      "0\n",
      "1\n",
      "2\n",
      "3\n",
      "4\n"
     ]
    }
   ],
   "source": [
    "# prints out 0,1,2,3,4\n",
    "\n",
    "count = 0\n",
    "while count < 5:\n",
    "    print(count)\n",
    "    count += 1  # This is the same as count = count + 1"
   ]
  },
  {
   "cell_type": "markdown",
   "id": "d70ad80b",
   "metadata": {},
   "source": [
    "#### 3. break and continue Statements\n",
    "The `break` statement is used to exit a `for` or `while` loop, whereas `continue` is used to skip the current block, and return to the `for` or `while` statement."
   ]
  },
  {
   "cell_type": "code",
   "execution_count": 33,
   "id": "c6ce94aa",
   "metadata": {},
   "outputs": [
    {
     "name": "stdout",
     "output_type": "stream",
     "text": [
      "0\n",
      "1\n",
      "2\n",
      "3\n",
      "4\n",
      "1\n",
      "3\n",
      "5\n",
      "7\n",
      "9\n"
     ]
    }
   ],
   "source": [
    "# prints out 0,1,2,3,4\n",
    "\n",
    "count = 0\n",
    "while True:\n",
    "    print(count)\n",
    "    count += 1\n",
    "    if count >= 5:\n",
    "        break\n",
    "\n",
    "# prints out only odd numbers - 1,3,5,7,9\n",
    "for x in range(10):\n",
    "    # Check if x is even\n",
    "    if x % 2 == 0:\n",
    "        continue\n",
    "    print(x)"
   ]
  },
  {
   "cell_type": "markdown",
   "id": "b0c5bc42",
   "metadata": {},
   "source": [
    "#### 3. Using \"else\" Clause in Loops\n",
    "Unlike languages suach as CPP, we can use `else` in loops. When the loop condition of `for` or `while` statement fails then the code part under `else` is executed. If a `break` statement is executed inside a loop then the `else` part is skipped. Note that the `else` part is executed even if there is a `continue` statement."
   ]
  },
  {
   "cell_type": "code",
   "execution_count": 34,
   "id": "4acc4e79",
   "metadata": {},
   "outputs": [
    {
     "name": "stdout",
     "output_type": "stream",
     "text": [
      "0\n",
      "1\n",
      "2\n",
      "3\n",
      "4\n",
      "count value reached 5\n",
      "1\n",
      "2\n",
      "3\n",
      "4\n"
     ]
    }
   ],
   "source": [
    "# prints out 0,1,2,3,4 and then it prints \"count value reached 5\"\n",
    "\n",
    "count=0\n",
    "while(count<5):\n",
    "    print(count)\n",
    "    count +=1\n",
    "else:\n",
    "    print(\"count value reached %d\" %(count))\n",
    "\n",
    "# Prints out 1,2,3,4\n",
    "for i in range(1, 10):\n",
    "    if(i%5==0):\n",
    "        break\n",
    "    print(i)\n",
    "else:\n",
    "    print(\"this is not printed because for loop is terminated because of break but not due to fail in condition\")"
   ]
  },
  {
   "cell_type": "markdown",
   "id": "ec47fbee",
   "metadata": {},
   "source": [
    "## B. Classes and Objects\n",
    "Python is an **object-oriented programming language**. Unlike procedure-oriented programming, where the main emphasis is on functions, object-oriented programming stresses on objects. Here, an object is simply a collection of data (variables) and methods (functions) that act on those data. Similarly, a class is a blueprint for that object.\n",
    "\n",
    "Classes are the key features of object-oriented programming. A class is a structure for representing an object and the operations that can be performed on the object.\n",
    "\n",
    "A Python class is defined like a function, but using the `class` keyword, and the class definition usually contains a number of class method definitions (a function in a class). The first string inside the class is called docstring and has a brief description of the class. Although not mandatory, this is highly recommended.\n",
    "\n",
    "Here is a simple class definition:\n",
    "```python\n",
    "class MyNewClass:\n",
    "    '''This is a docstring. We have created a new class'''\n",
    "    pass\n",
    "```"
   ]
  },
  {
   "cell_type": "markdown",
   "id": "cec50563",
   "metadata": {},
   "source": [
    "A class creates a new local namespace where all its attributes are defined. Attributes may be data or functions.\n",
    "\n",
    "There are also special attributes in it that begins with double underscores `__`. For example, `__doc__` gives us the docstring of that class.\n",
    "\n",
    "Each class method should have an argument `self` as its first argument. This object is a self-reference.\n",
    "\n",
    "Some class method names have special meaning, for example:\n",
    "\n",
    "* `__init__`: The name of the method that is invoked when the object is first created.\n",
    "* `__str__`: A method that is invoked when a simple string representation of the class is needed, as for example when printed.\n",
    "* `__del__`: A method known as a destructor method in Python. It is called when all references to the object have been deleted i.e when an object is garbage collected. \n",
    "\n",
    "There are many more, see http://docs.python.org/2/reference/datamodel.html#special-method-names"
   ]
  },
  {
   "cell_type": "code",
   "execution_count": 35,
   "id": "87a4c7c3",
   "metadata": {},
   "outputs": [],
   "source": [
    "class Point:\n",
    "    \"\"\"\n",
    "    Simple class for representing a point in a Cartesian coordinate system.\n",
    "    \"\"\"\n",
    "    \n",
    "    def __init__(self, x, y):\n",
    "        \"\"\"\n",
    "        Create a new Point at x, y.\n",
    "        \"\"\"\n",
    "        self.x = x\n",
    "        self.y = y\n",
    "        \n",
    "    def increment(self, dx, dy):\n",
    "        \"\"\"\n",
    "        Increment the point by dx and dy in the x and y direction.\n",
    "        \"\"\"\n",
    "        self.x += dx\n",
    "        self.y += dy\n",
    "        \n",
    "    def __str__(self):\n",
    "        return(\"Point at [%f, %f]\" % (self.x, self.y))"
   ]
  },
  {
   "cell_type": "markdown",
   "id": "1c3b0b1b",
   "metadata": {},
   "source": [
    "To create a new instance of a class:"
   ]
  },
  {
   "cell_type": "code",
   "execution_count": 36,
   "id": "9607c711",
   "metadata": {},
   "outputs": [
    {
     "name": "stdout",
     "output_type": "stream",
     "text": [
      "Point at [1.000000, -1.000000]\n"
     ]
    }
   ],
   "source": [
    "p1 = Point(1, -1)  # this will invoke the __init__ method in the Point class\n",
    "\n",
    "print(p1)          # this will invoke the __str__ method"
   ]
  },
  {
   "cell_type": "markdown",
   "id": "d7369ad1",
   "metadata": {},
   "source": [
    "To invoke a class method in the class instance `p1`:"
   ]
  },
  {
   "cell_type": "code",
   "execution_count": 37,
   "id": "fc7e3007",
   "metadata": {},
   "outputs": [
    {
     "name": "stdout",
     "output_type": "stream",
     "text": [
      "Point at [0.000000, 0.000000]\n"
     ]
    }
   ],
   "source": [
    "p1.increment(-1, 1)\n",
    "print(p1)"
   ]
  },
  {
   "cell_type": "code",
   "execution_count": 38,
   "id": "9843d84e",
   "metadata": {},
   "outputs": [
    {
     "name": "stdout",
     "output_type": "stream",
     "text": [
      "\n",
      "    Simple class for representing a point in a Cartesian coordinate system.\n",
      "    \n"
     ]
    }
   ],
   "source": [
    "print(p1.__doc__)  # this will print out the docsctring of the class"
   ]
  },
  {
   "cell_type": "markdown",
   "id": "784ea0d6",
   "metadata": {},
   "source": [
    "## C. Modules\n",
    "\n",
    "One of the most important concepts in good programming is to reuse code and avoid repetitions.\n",
    "\n",
    "The idea is to write functions and classes with a well-defined purpose and scope, and reuse these instead of repeating similar code in different part of a program (**modular programming**). \n",
    "\n",
    "Python supports **modular programming** at different levels:\n",
    "* Functions and classes are examples of tools for low-level modular programming. \n",
    "* Python modules are a higher-level modular programming construct, where we can collect related variables, functions and classes in a module. \n",
    "\n",
    "A python module is defined in a python file (with an extension `.py`), and it can be made accessible to other Python modules and programs using the `import` statement. "
   ]
  },
  {
   "cell_type": "markdown",
   "id": "7279db56",
   "metadata": {},
   "source": [
    "As an example, we can create a module and save it as `example.py`.\n",
    "```python\n",
    "# Python Module example\n",
    "\n",
    "def add(a, b):\n",
    "   \"\"\"This program adds two\n",
    "   numbers and return the result\"\"\"\n",
    "\n",
    "   result = a + b\n",
    "   return result\n",
    "```\n",
    "Here, we have defined a function `add()` inside a module named *example*. The function takes in two numbers and returns their sum."
   ]
  },
  {
   "cell_type": "markdown",
   "id": "4dbd851a",
   "metadata": {},
   "source": [
    "We can import the definitions inside a module to another module or the interactive interpreter in Python.\n",
    "\n",
    "We use the `import` keyword to do this. To import our defined module example, we use the following statement:\n",
    "```python\n",
    "import example\n",
    "```\n",
    "Using the module name we can access the function using the dot `.` operator. For example:\n",
    "```python\n",
    "example.add(12,12.55)\n",
    "```"
   ]
  },
  {
   "cell_type": "markdown",
   "id": "4a2897b1",
   "metadata": {},
   "source": [
    "We can import various pre-defined modules (packages) using the `import` statement and access the definitions inside them using the dot operator as described above. "
   ]
  },
  {
   "cell_type": "code",
   "execution_count": 39,
   "id": "5f2e2dfa",
   "metadata": {},
   "outputs": [
    {
     "name": "stdout",
     "output_type": "stream",
     "text": [
      "The value of pi is 3.141592653589793\n"
     ]
    }
   ],
   "source": [
    "import math\n",
    "print(\"The value of pi is\", math.pi)"
   ]
  },
  {
   "cell_type": "markdown",
   "id": "17a023bb",
   "metadata": {},
   "source": [
    "We can import a module by renaming it as follows:"
   ]
  },
  {
   "cell_type": "code",
   "execution_count": 40,
   "id": "10e4c040",
   "metadata": {},
   "outputs": [
    {
     "name": "stdout",
     "output_type": "stream",
     "text": [
      "The value of pi is 3.141592653589793\n"
     ]
    }
   ],
   "source": [
    "import math as m\n",
    "print(\"The value of pi is\", m.pi)"
   ]
  },
  {
   "cell_type": "markdown",
   "id": "bdc233ef",
   "metadata": {},
   "source": [
    "We can import specific names from a module without importing the module as a whole."
   ]
  },
  {
   "cell_type": "code",
   "execution_count": 41,
   "id": "c3b5c507",
   "metadata": {},
   "outputs": [
    {
     "name": "stdout",
     "output_type": "stream",
     "text": [
      "The value of pi is 3.141592653589793\n"
     ]
    }
   ],
   "source": [
    "# import only pi from the 'math' module\n",
    "\n",
    "from math import pi\n",
    "print(\"The value of pi is\", pi)"
   ]
  },
  {
   "cell_type": "markdown",
   "id": "4dc61ac1",
   "metadata": {},
   "source": [
    "We can import all names (definitions) from a module using the following construct:"
   ]
  },
  {
   "cell_type": "code",
   "execution_count": 42,
   "id": "50e63e6b",
   "metadata": {},
   "outputs": [
    {
     "name": "stdout",
     "output_type": "stream",
     "text": [
      "The value of pi is 3.141592653589793\n"
     ]
    }
   ],
   "source": [
    "# import all names from the standard module math\n",
    "\n",
    "from math import *\n",
    "print(\"The value of pi is\", pi)"
   ]
  },
  {
   "cell_type": "markdown",
   "id": "064c7529",
   "metadata": {},
   "source": [
    "### The dir() Built-In Function\n",
    "\n",
    "We can use the `dir()` function to find out all the names defined inside of a module."
   ]
  },
  {
   "cell_type": "code",
   "execution_count": 43,
   "id": "b8350aa8",
   "metadata": {},
   "outputs": [
    {
     "data": {
      "text/plain": [
       "['__doc__',\n",
       " '__loader__',\n",
       " '__name__',\n",
       " '__package__',\n",
       " '__spec__',\n",
       " 'acos',\n",
       " 'acosh',\n",
       " 'asin',\n",
       " 'asinh',\n",
       " 'atan',\n",
       " 'atan2',\n",
       " 'atanh',\n",
       " 'ceil',\n",
       " 'comb',\n",
       " 'copysign',\n",
       " 'cos',\n",
       " 'cosh',\n",
       " 'degrees',\n",
       " 'dist',\n",
       " 'e',\n",
       " 'erf',\n",
       " 'erfc',\n",
       " 'exp',\n",
       " 'expm1',\n",
       " 'fabs',\n",
       " 'factorial',\n",
       " 'floor',\n",
       " 'fmod',\n",
       " 'frexp',\n",
       " 'fsum',\n",
       " 'gamma',\n",
       " 'gcd',\n",
       " 'hypot',\n",
       " 'inf',\n",
       " 'isclose',\n",
       " 'isfinite',\n",
       " 'isinf',\n",
       " 'isnan',\n",
       " 'isqrt',\n",
       " 'lcm',\n",
       " 'ldexp',\n",
       " 'lgamma',\n",
       " 'log',\n",
       " 'log10',\n",
       " 'log1p',\n",
       " 'log2',\n",
       " 'modf',\n",
       " 'nan',\n",
       " 'nextafter',\n",
       " 'perm',\n",
       " 'pi',\n",
       " 'pow',\n",
       " 'prod',\n",
       " 'radians',\n",
       " 'remainder',\n",
       " 'sin',\n",
       " 'sinh',\n",
       " 'sqrt',\n",
       " 'tan',\n",
       " 'tanh',\n",
       " 'tau',\n",
       " 'trunc',\n",
       " 'ulp']"
      ]
     },
     "execution_count": 43,
     "metadata": {},
     "output_type": "execute_result"
    }
   ],
   "source": [
    "dir(math)"
   ]
  },
  {
   "cell_type": "markdown",
   "id": "3d59183c",
   "metadata": {},
   "source": [
    "### Python main() Function\n",
    "\n",
    "Main function is the entry point of any program. However, the Python interpreter executes the source file code sequentially. Hence, to execute the *main function* first, there is a special technique to define a **main()** function in Python programs, so that it gets executed only when the program is run directly and not executed when imported as a module. "
   ]
  },
  {
   "cell_type": "markdown",
   "id": "cd046f7d",
   "metadata": {},
   "source": [
    "* When a Python program is executed, the Python interpreter starts executing code inside it. It also sets a few implicit variables: one of them is **\\_\\_name\\_\\_** and its value is set to **\\_\\_main\\_\\_**.\n",
    "\n",
    "* For a Python **main()** function, we have to define a function and then use **if \\_\\_name\\_\\_ == \\_\\_main\\_\\_** condition to execute this function."
   ]
  },
  {
   "cell_type": "code",
   "execution_count": 44,
   "id": "9d8dd721",
   "metadata": {},
   "outputs": [
    {
     "name": "stdout",
     "output_type": "stream",
     "text": [
      "__name__ value:  __main__\n",
      "This is a Python main function.\n"
     ]
    }
   ],
   "source": [
    "print(\"__name__ value: \", __name__)\n",
    "\n",
    "\n",
    "def main():\n",
    "    print(\"This is a Python main function.\")\n",
    "\n",
    "\n",
    "if __name__ == '__main__':\n",
    "    main()"
   ]
  },
  {
   "cell_type": "markdown",
   "id": "2600847d",
   "metadata": {},
   "source": [
    "### Switch Statement\n",
    "\n",
    "Until version 3.10, Python did not have a feature that implements what the **switch** statement does in other programming languages."
   ]
  },
  {
   "cell_type": "markdown",
   "id": "d5ff3596",
   "metadata": {},
   "source": [
    "We can write switch statements in Python 3.10 (and higher) by using the **match** and **case** keywords (or, the structural pattern matching feature). \n",
    "<br><br>\n",
    "To write switch statements with the structural pattern matching feature, you can use the syntax below:\n",
    "```python\n",
    "match term:\n",
    "    case pattern-1:\n",
    "        action-1\n",
    "    case pattern-2:\n",
    "        action-2\n",
    "    case pattern-3:\n",
    "        action-3\n",
    "    case _:\n",
    "        action-default\n",
    "```"
   ]
  },
  {
   "cell_type": "code",
   "execution_count": 45,
   "id": "89d49220",
   "metadata": {},
   "outputs": [
    {
     "name": "stdout",
     "output_type": "stream",
     "text": [
      "Python version is 3.9.7\n",
      "Python version is less than 3.10.\n",
      "The following match-case code will not execute.\n"
     ]
    }
   ],
   "source": [
    "#To check your Python version:\n",
    "from platform import python_version\n",
    "\n",
    "print('Python version is ' + python_version())\n",
    "\n",
    "version_numbers = python_version().split('.')\n",
    "\n",
    "if (int(version_numbers[0]) >= 3 and int(version_numbers[1]) >= 10): \n",
    "    print('Python version is equal or higher than 3.10.')\n",
    "    print('The following match-case code will execute.')\n",
    "\n",
    "else:\n",
    "    print('Python version is less than 3.10.')\n",
    "    print('The following match-case code will not execute.')"
   ]
  },
  {
   "cell_type": "markdown",
   "id": "6ab70ca5",
   "metadata": {},
   "source": [
    "The following example won't be working on a version lower than 3.10. "
   ]
  },
  {
   "cell_type": "markdown",
   "id": "564509df",
   "metadata": {},
   "source": [
    "```python\n",
    "lang = 'Python'\n",
    "\n",
    "match lang:\n",
    "    case \"JavaScript\":\n",
    "        print(\"You can become a web developer.\")\n",
    "\n",
    "    case \"Python\":\n",
    "        print(\"You can become a Data Scientist\")\n",
    "\n",
    "    case \"PHP\":\n",
    "        print(\"You can become a backend developer\")\n",
    "    \n",
    "    case \"Solidity\":\n",
    "        print(\"You can become a Blockchain developer\")\n",
    "\n",
    "    case \"Java\":\n",
    "        print(\"You can become a mobile app developer\")\n",
    "    \n",
    "    case _:\n",
    "        print(\"The language doesn't matter, what matters is solving problems.\")\n",
    "```"
   ]
  },
  {
   "cell_type": "code",
   "execution_count": null,
   "id": "8e6bb4e3",
   "metadata": {},
   "outputs": [],
   "source": []
  }
 ],
 "metadata": {
  "kernelspec": {
   "display_name": "Python 3 (ipykernel)",
   "language": "python",
   "name": "python3"
  },
  "language_info": {
   "codemirror_mode": {
    "name": "ipython",
    "version": 3
   },
   "file_extension": ".py",
   "mimetype": "text/x-python",
   "name": "python",
   "nbconvert_exporter": "python",
   "pygments_lexer": "ipython3",
   "version": "3.9.7"
  }
 },
 "nbformat": 4,
 "nbformat_minor": 5
}
